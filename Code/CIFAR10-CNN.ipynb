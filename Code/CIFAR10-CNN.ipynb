{
 "cells": [
  {
   "cell_type": "markdown",
   "metadata": {
    "id": "HGvDA_xaaGYR"
   },
   "source": [
    "This is the initial part of the notebook where all of the dependencies are imported."
   ]
  },
  {
   "cell_type": "code",
   "execution_count": 4,
   "metadata": {
    "id": "YL5kz3lrxSJs"
   },
   "outputs": [],
   "source": [
    "import tensorflow as tf\n",
    "\n",
    "from tensorflow.keras import datasets, layers, models\n",
    "import matplotlib.pyplot as plt\n",
    "from keras.models import Sequential\n",
    "from keras import optimizers\n",
    "from keras.losses import sparse_categorical_crossentropy\n",
    "from keras.callbacks import ReduceLROnPlateau\n",
    "import keras\n",
    "from tensorboard.backend.event_processing import event_accumulator"
   ]
  },
  {
   "cell_type": "markdown",
   "metadata": {
    "id": "E7qyp68ia-5g"
   },
   "source": [
    "Creating the callbacks that will be used for detecting when the model no longer improves and adjusting the learning parameter when a plateau is detected."
   ]
  },
  {
   "cell_type": "code",
   "execution_count": 5,
   "metadata": {
    "id": "Z6y6KXaAJ88P"
   },
   "outputs": [],
   "source": [
    "# Main example code is based on https://teksands.ai/blog/callbacks-in-keras#what-are-callbacks-in-keros\n",
    "\n",
    "early_stop = tf.keras.callbacks.EarlyStopping(monitor='val_loss',\n",
    "                        min_delta=0,\n",
    "                        patience=5,\n",
    "                        verbose=1,\n",
    "                        restore_best_weights=True)\n",
    "\n",
    "# Main example the callback is based on https://www.kaggle.com/curiousprogrammer/lenet-5-cnn-with-keras-99-48\n",
    "reduce_lr = ReduceLROnPlateau(monitor='val_accuracy', \n",
    "                                patience=3, \n",
    "                                verbose=1, \n",
    "                                factor=0.2, \n",
    "                                min_lr=1e-6)"
   ]
  },
  {
   "cell_type": "markdown",
   "metadata": {
    "id": "3UpL0qW7fvJ6"
   },
   "source": [
    "Loading the dataset to the environment, we can download each time as it is provided by tensorflow.keras.datasets"
   ]
  },
  {
   "cell_type": "code",
   "execution_count": 6,
   "metadata": {
    "colab": {
     "base_uri": "https://localhost:8080/"
    },
    "id": "kBjF0V3dxXaG",
    "outputId": "a7a876a8-c9fc-456f-8a3b-7b23ecfed894"
   },
   "outputs": [
    {
     "name": "stdout",
     "output_type": "stream",
     "text": [
      "Downloading data from https://www.cs.toronto.edu/~kriz/cifar-10-python.tar.gz\n",
      "170500096/170498071 [==============================] - 6s 0us/step\n",
      "170508288/170498071 [==============================] - 6s 0us/step\n"
     ]
    }
   ],
   "source": [
    "# Code used from https://www.tensorflow.org/tutorials/images/cnn\n",
    "(train_images, train_labels), (test_images, test_labels) = datasets.cifar10.load_data()\n",
    "\n",
    "# Normalize pixel values to be between 0 and 1\n",
    "train_images, test_images = train_images / 255.0, test_images / 255.0"
   ]
  },
  {
   "cell_type": "code",
   "execution_count": 7,
   "metadata": {
    "id": "RsU0iiztEw17"
   },
   "outputs": [],
   "source": [
    "# Normalizing and resizing the images to avoid bias in the model\n",
    "# Dataset influenced by https://towardsdatascience.com/implementing-alexnet-cnn-architecture-using-tensorflow-2-0-and-keras-2113e090ad98\n",
    "\n",
    "def process_images_28(image, label):\n",
    "    # Normalize images to have a mean of 0 and standard deviation of 1\n",
    "    image = tf.image.per_image_standardization(image)\n",
    "    # Resize images from 32x32 to 28x28\n",
    "    image = tf.image.resize(image, (28,28))\n",
    "    return image, label"
   ]
  },
  {
   "cell_type": "markdown",
   "metadata": {
    "id": "Xj9UbtJjhIho"
   },
   "source": [
    "Pre-processing data to avoid bias in the model. This can easily be done using from_tensor_slices as it is a dataloader that allows the procedure to be done more easily"
   ]
  },
  {
   "cell_type": "code",
   "execution_count": 8,
   "metadata": {
    "colab": {
     "base_uri": "https://localhost:8080/"
    },
    "id": "-C0pTJS2EybR",
    "outputId": "3c9d36c8-8f26-4674-e6ea-7c712874ba94"
   },
   "outputs": [
    {
     "name": "stdout",
     "output_type": "stream",
     "text": [
      "Training data size: 50000\n",
      "Test data size: 10000\n"
     ]
    }
   ],
   "source": [
    "# Dataset influenced by https://towardsdatascience.com/implementing-alexnet-cnn-architecture-using-tensorflow-2-0-and-keras-2113e090ad98\n",
    "\n",
    "train_ds = tf.data.Dataset.from_tensor_slices((train_images, train_labels))\n",
    "test_ds = tf.data.Dataset.from_tensor_slices((test_images, test_labels))\n",
    "train_ds_size = tf.data.experimental.cardinality(train_ds).numpy()\n",
    "test_ds_size = tf.data.experimental.cardinality(test_ds).numpy()\n",
    "print(\"Training data size:\", train_ds_size)\n",
    "print(\"Test data size:\", test_ds_size)"
   ]
  },
  {
   "cell_type": "markdown",
   "metadata": {
    "id": "xGuuqhGnjNUe"
   },
   "source": [
    "Batch  size used is 32 and shuffle has buffere size equal to the dataset allowing randomization in the data"
   ]
  },
  {
   "cell_type": "code",
   "execution_count": 9,
   "metadata": {
    "id": "b4gtSorFE6-x"
   },
   "outputs": [],
   "source": [
    "# Dataset influenced by https://towardsdatascience.com/implementing-alexnet-cnn-architecture-using-tensorflow-2-0-and-keras-2113e090ad98\n",
    "\n",
    "train_ds_28 = (train_ds\n",
    "                  .map(process_images_28)\n",
    "                  .shuffle(buffer_size=train_ds_size)\n",
    "                  .batch(batch_size=32, drop_remainder=True))\n",
    "test_ds_28 = (test_ds\n",
    "                  .map(process_images_28)\n",
    "                  .shuffle(buffer_size=train_ds_size)\n",
    "                  .batch(batch_size=32, drop_remainder=True))"
   ]
  },
  {
   "cell_type": "code",
   "execution_count": 10,
   "metadata": {
    "id": "HulFfKgnxZYt"
   },
   "outputs": [],
   "source": [
    "# Model adapted from https://www.kaggle.com/curiousprogrammer/lenet-5-cnn-with-keras-99-48\n",
    "\n",
    "baseline_model = Sequential()\n",
    "\n",
    "baseline_model.add(tf.keras.layers.Conv2D(filters=32, kernel_size=(5,5), padding='same', activation='relu', input_shape=(28, 28, 3)))\n",
    "baseline_model.add(tf.keras.layers.MaxPool2D(strides=2))\n",
    "baseline_model.add(tf.keras.layers.BatchNormalization())\n",
    "baseline_model.add(tf.keras.layers.Conv2D(filters=48, kernel_size=(5,5), padding='same', activation='relu'))\n",
    "baseline_model.add(tf.keras.layers.MaxPool2D(strides=2))\n",
    "baseline_model.add(tf.keras.layers.BatchNormalization())\n",
    "baseline_model.add(tf.keras.layers.Flatten())\n",
    "baseline_model.add(tf.keras.layers.Dropout(0.2))\n",
    "baseline_model.add(tf.keras.layers.Dense(256, activation='relu'))\n",
    "baseline_model.add(tf.keras.layers.Dropout(0.2))\n",
    "baseline_model.add(tf.keras.layers.Dense(84, activation='relu'))\n",
    "baseline_model.add(tf.keras.layers.Dropout(0.2))\n",
    "baseline_model.add(tf.keras.layers.Dense(10, activation='softmax'))"
   ]
  },
  {
   "cell_type": "code",
   "execution_count": 11,
   "metadata": {
    "colab": {
     "base_uri": "https://localhost:8080/"
    },
    "id": "CF9QLJqpxm8G",
    "outputId": "e8c4aafa-319d-449d-d155-8f14aeea2c6b"
   },
   "outputs": [
    {
     "name": "stdout",
     "output_type": "stream",
     "text": [
      "Model: \"sequential\"\n",
      "_________________________________________________________________\n",
      " Layer (type)                Output Shape              Param #   \n",
      "=================================================================\n",
      " conv2d (Conv2D)             (None, 28, 28, 32)        2432      \n",
      "                                                                 \n",
      " max_pooling2d (MaxPooling2D  (None, 14, 14, 32)       0         \n",
      " )                                                               \n",
      "                                                                 \n",
      " batch_normalization (BatchN  (None, 14, 14, 32)       128       \n",
      " ormalization)                                                   \n",
      "                                                                 \n",
      " conv2d_1 (Conv2D)           (None, 14, 14, 48)        38448     \n",
      "                                                                 \n",
      " max_pooling2d_1 (MaxPooling  (None, 7, 7, 48)         0         \n",
      " 2D)                                                             \n",
      "                                                                 \n",
      " batch_normalization_1 (Batc  (None, 7, 7, 48)         192       \n",
      " hNormalization)                                                 \n",
      "                                                                 \n",
      " flatten (Flatten)           (None, 2352)              0         \n",
      "                                                                 \n",
      " dropout (Dropout)           (None, 2352)              0         \n",
      "                                                                 \n",
      " dense (Dense)               (None, 256)               602368    \n",
      "                                                                 \n",
      " dropout_1 (Dropout)         (None, 256)               0         \n",
      "                                                                 \n",
      " dense_1 (Dense)             (None, 84)                21588     \n",
      "                                                                 \n",
      " dropout_2 (Dropout)         (None, 84)                0         \n",
      "                                                                 \n",
      " dense_2 (Dense)             (None, 10)                850       \n",
      "                                                                 \n",
      "=================================================================\n",
      "Total params: 666,006\n",
      "Trainable params: 665,846\n",
      "Non-trainable params: 160\n",
      "_________________________________________________________________\n"
     ]
    }
   ],
   "source": [
    "baseline_model.compile(loss=sparse_categorical_crossentropy, optimizer=tf.optimizers.Adam(), metrics=['accuracy'])\n",
    "baseline_model.summary()\n",
    "model_change = baseline_model"
   ]
  },
  {
   "cell_type": "markdown",
   "metadata": {
    "id": "n-Z9nKrljvm-"
   },
   "source": [
    "Initial Evaluation of the baseline model using 8 epochs to analyse its performance."
   ]
  },
  {
   "cell_type": "code",
   "execution_count": 12,
   "metadata": {
    "colab": {
     "base_uri": "https://localhost:8080/"
    },
    "id": "JOkNDB1UypOW",
    "outputId": "1114db51-58a1-4995-bcf1-1ee95be3c546"
   },
   "outputs": [
    {
     "name": "stdout",
     "output_type": "stream",
     "text": [
      "Epoch 1/8\n",
      "1562/1562 [==============================] - 193s 119ms/step - loss: 1.5025 - accuracy: 0.4687 - val_loss: 1.1470 - val_accuracy: 0.5947\n",
      "Epoch 2/8\n",
      "1562/1562 [==============================] - 187s 118ms/step - loss: 1.1156 - accuracy: 0.6108 - val_loss: 0.9640 - val_accuracy: 0.6617\n",
      "Epoch 3/8\n",
      "1562/1562 [==============================] - 210s 130ms/step - loss: 0.9525 - accuracy: 0.6698 - val_loss: 0.8527 - val_accuracy: 0.7046\n",
      "Epoch 4/8\n",
      "1562/1562 [==============================] - 194s 122ms/step - loss: 0.8369 - accuracy: 0.7117 - val_loss: 0.8149 - val_accuracy: 0.7182\n",
      "Epoch 5/8\n",
      "1562/1562 [==============================] - 207s 130ms/step - loss: 0.7487 - accuracy: 0.7413 - val_loss: 0.7977 - val_accuracy: 0.7203\n",
      "Epoch 6/8\n",
      "1562/1562 [==============================] - 215s 136ms/step - loss: 0.6759 - accuracy: 0.7650 - val_loss: 0.7920 - val_accuracy: 0.7297\n",
      "Epoch 7/8\n",
      "1562/1562 [==============================] - 201s 125ms/step - loss: 0.6088 - accuracy: 0.7886 - val_loss: 0.7921 - val_accuracy: 0.7413\n",
      "Epoch 8/8\n",
      "1562/1562 [==============================] - 192s 121ms/step - loss: 0.5602 - accuracy: 0.8044 - val_loss: 0.7644 - val_accuracy: 0.7485\n"
     ]
    }
   ],
   "source": [
    "history = baseline_model.fit(train_ds_28, epochs=8,verbose=1,\n",
    "                    validation_data=(test_ds_28))"
   ]
  },
  {
   "cell_type": "markdown",
   "metadata": {
    "id": "538EPb2KkU0z"
   },
   "source": [
    "Printing a graph of the accuracy of the model."
   ]
  },
  {
   "cell_type": "code",
   "execution_count": 13,
   "metadata": {
    "colab": {
     "base_uri": "https://localhost:8080/",
     "height": 295
    },
    "id": "hP_rLCsmLG0v",
    "outputId": "39c42738-c5ae-4dcb-a51c-a4e8ea8e2b6b"
   },
   "outputs": [
    {
     "data": {
      "image/png": "[encoded data removed]",
      "text/plain": [
       "<Figure size 432x288 with 1 Axes>"
      ]
     },
     "metadata": {
      "needs_background": "light"
     },
     "output_type": "display_data"
    }
   ],
   "source": [
    "plt.plot(history.history['accuracy'])\n",
    "plt.plot(history.history['val_accuracy'])\n",
    "plt.title('Baseline model accuracy')\n",
    "plt.ylabel('accuracy')\n",
    "plt.xlabel('epoch')\n",
    "plt.legend(['train', 'val'], loc='upper left')\n",
    "plt.show()"
   ]
  },
  {
   "cell_type": "markdown",
   "metadata": {
    "id": "nxyrQ8RGksiG"
   },
   "source": [
    "Modification on the initial model to test how changing the optimiser to SGD affects the training performance."
   ]
  },
  {
   "cell_type": "code",
   "execution_count": null,
   "metadata": {
    "colab": {
     "base_uri": "https://localhost:8080/"
    },
    "id": "s3o2t2tX-ER7",
    "outputId": "cf2ceda2-1bac-4025-ba22-6d286a3b50d9"
   },
   "outputs": [
    {
     "name": "stdout",
     "output_type": "stream",
     "text": [
      "Model: \"sequential_4\"\n",
      "_________________________________________________________________\n",
      " Layer (type)                Output Shape              Param #   \n",
      "=================================================================\n",
      " conv2d_8 (Conv2D)           (None, 28, 28, 32)        2432      \n",
      "                                                                 \n",
      " max_pooling2d_8 (MaxPooling  (None, 14, 14, 32)       0         \n",
      " 2D)                                                             \n",
      "                                                                 \n",
      " batch_normalization_8 (Batc  (None, 14, 14, 32)       128       \n",
      " hNormalization)                                                 \n",
      "                                                                 \n",
      " conv2d_9 (Conv2D)           (None, 14, 14, 48)        38448     \n",
      "                                                                 \n",
      " max_pooling2d_9 (MaxPooling  (None, 7, 7, 48)         0         \n",
      " 2D)                                                             \n",
      "                                                                 \n",
      " batch_normalization_9 (Batc  (None, 7, 7, 48)         192       \n",
      " hNormalization)                                                 \n",
      "                                                                 \n",
      " flatten_4 (Flatten)         (None, 2352)              0         \n",
      "                                                                 \n",
      " dropout_3 (Dropout)         (None, 2352)              0         \n",
      "                                                                 \n",
      " dense_12 (Dense)            (None, 256)               602368    \n",
      "                                                                 \n",
      " dropout_4 (Dropout)         (None, 256)               0         \n",
      "                                                                 \n",
      " dense_13 (Dense)            (None, 84)                21588     \n",
      "                                                                 \n",
      " dropout_5 (Dropout)         (None, 84)                0         \n",
      "                                                                 \n",
      " dense_14 (Dense)            (None, 10)                850       \n",
      "                                                                 \n",
      "=================================================================\n",
      "Total params: 666,006\n",
      "Trainable params: 665,846\n",
      "Non-trainable params: 160\n",
      "_________________________________________________________________\n"
     ]
    }
   ],
   "source": [
    "model_SGD = Sequential()\n",
    "\n",
    "model_SGD.add(tf.keras.layers.Conv2D(filters=32, kernel_size=(5,5), padding='same', activation='relu', input_shape=(28, 28, 3)))\n",
    "model_SGD.add(tf.keras.layers.MaxPool2D(strides=2))\n",
    "model_SGD.add(tf.keras.layers.BatchNormalization())\n",
    "model_SGD.add(tf.keras.layers.Conv2D(filters=48, kernel_size=(5,5), padding='same', activation='relu'))\n",
    "model_SGD.add(tf.keras.layers.MaxPool2D(strides=2))\n",
    "model_SGD.add(tf.keras.layers.BatchNormalization())\n",
    "model_SGD.add(tf.keras.layers.Flatten())\n",
    "model_SGD.add(tf.keras.layers.Dropout(0.2))\n",
    "model_SGD.add(tf.keras.layers.Dense(256, activation='relu'))\n",
    "model_SGD.add(tf.keras.layers.Dropout(0.2))\n",
    "model_SGD.add(tf.keras.layers.Dense(84, activation='relu'))\n",
    "model_SGD.add(tf.keras.layers.Dropout(0.2))\n",
    "model_SGD.add(tf.keras.layers.Dense(10, activation='softmax'))\n",
    "\n",
    "model_SGD.compile(loss=sparse_categorical_crossentropy, optimizer=tf.optimizers.SGD(), metrics=['accuracy'])\n",
    "model_SGD.summary()"
   ]
  },
  {
   "cell_type": "markdown",
   "metadata": {
    "id": "BsF2H3uvlNnQ"
   },
   "source": [
    "Testing the training of the SGD variant"
   ]
  },
  {
   "cell_type": "code",
   "execution_count": null,
   "metadata": {
    "colab": {
     "base_uri": "https://localhost:8080/"
    },
    "id": "NoVyq5dK-WSu",
    "outputId": "124876e4-ab5f-4a61-a120-888efaa2cece"
   },
   "outputs": [
    {
     "name": "stdout",
     "output_type": "stream",
     "text": [
      "Epoch 1/8\n",
      "1562/1562 [==============================] - 182s 114ms/step - loss: 1.6683 - accuracy: 0.4042 - val_loss: 1.2832 - val_accuracy: 0.5429\n",
      "Epoch 2/8\n",
      "1562/1562 [==============================] - 186s 117ms/step - loss: 1.3110 - accuracy: 0.5293 - val_loss: 1.1193 - val_accuracy: 0.6005\n",
      "Epoch 3/8\n",
      "1562/1562 [==============================] - 189s 119ms/step - loss: 1.1643 - accuracy: 0.5871 - val_loss: 1.0250 - val_accuracy: 0.6364\n",
      "Epoch 4/8\n",
      "1562/1562 [==============================] - 195s 123ms/step - loss: 1.0521 - accuracy: 0.6288 - val_loss: 0.9510 - val_accuracy: 0.6662\n",
      "Epoch 5/8\n",
      "1562/1562 [==============================] - 206s 129ms/step - loss: 0.9816 - accuracy: 0.6546 - val_loss: 0.9271 - val_accuracy: 0.6746\n",
      "Epoch 6/8\n",
      "1562/1562 [==============================] - 186s 117ms/step - loss: 0.9233 - accuracy: 0.6757 - val_loss: 0.8735 - val_accuracy: 0.6907\n",
      "Epoch 7/8\n",
      "1562/1562 [==============================] - 187s 118ms/step - loss: 0.8638 - accuracy: 0.6958 - val_loss: 0.8197 - val_accuracy: 0.7108\n",
      "Epoch 8/8\n",
      "1562/1562 [==============================] - 188s 118ms/step - loss: 0.8234 - accuracy: 0.7106 - val_loss: 0.7922 - val_accuracy: 0.7171\n"
     ]
    }
   ],
   "source": [
    "history_SGD = model_SGD.fit(train_ds_28, epochs=8,verbose=1,\n",
    "                    validation_data=(test_ds_28))"
   ]
  },
  {
   "cell_type": "markdown",
   "metadata": {
    "id": "A3F1_K6GlQob"
   },
   "source": [
    "Plotting the performance of both models"
   ]
  },
  {
   "cell_type": "code",
   "execution_count": null,
   "metadata": {
    "colab": {
     "base_uri": "https://localhost:8080/",
     "height": 295
    },
    "id": "l_cfRYNYK4Zd",
    "outputId": "82e9ade3-dd50-46db-b618-936b6498514e"
   },
   "outputs": [
    {
     "data": {
      "image/png": "[encoded data removed]",
      "text/plain": [
       "<Figure size 432x288 with 1 Axes>"
      ]
     },
     "metadata": {
      "needs_background": "light"
     },
     "output_type": "display_data"
    }
   ],
   "source": [
    "plt.plot(history.history['val_accuracy'])\n",
    "plt.plot(history_SGD.history['val_accuracy'])\n",
    "plt.title('Model Accuracy SGD vs Adam')\n",
    "plt.ylabel('accuracy')\n",
    "plt.xlabel('epoch')\n",
    "plt.legend(['Adam', 'SGD'], loc='upper left')\n",
    "plt.savefig('SGDAdam')\n",
    "plt.show()"
   ]
  },
  {
   "cell_type": "markdown",
   "metadata": {
    "id": "s7YMW8_GlUdj"
   },
   "source": [
    "Modified version of the model with input of 32x32x3. Similar to baseline architecture but the main difference if the input size in the first layer."
   ]
  },
  {
   "cell_type": "code",
   "execution_count": null,
   "metadata": {
    "id": "UPQXr_JLkRny"
   },
   "outputs": [],
   "source": [
    "model_v1 = Sequential()\n",
    "\n",
    "model_v1.add(tf.keras.layers.Conv2D(filters=32, kernel_size=(5,5), padding='same', activation='relu', input_shape=(32, 32, 3)))\n",
    "model_v1.add(tf.keras.layers.MaxPool2D(strides=2))\n",
    "model_v1.add(tf.keras.layers.BatchNormalization())\n",
    "model_v1.add(tf.keras.layers.Conv2D(filters=48, kernel_size=(5,5), padding='same', activation='relu'))\n",
    "model_v1.add(tf.keras.layers.MaxPool2D(strides=2))\n",
    "model_v1.add(tf.keras.layers.BatchNormalization())\n",
    "model_v1.add(tf.keras.layers.Flatten())\n",
    "model_v1.add(tf.keras.layers.Dropout(0.2))\n",
    "model_v1.add(tf.keras.layers.Dense(256, activation='relu'))\n",
    "model_v1.add(tf.keras.layers.Dropout(0.2))\n",
    "model_v1.add(tf.keras.layers.Dense(84, activation='relu'))\n",
    "model_v1.add(tf.keras.layers.Dropout(0.2))\n",
    "model_v1.add(tf.keras.layers.Dense(10, activation='softmax'))"
   ]
  },
  {
   "cell_type": "code",
   "execution_count": null,
   "metadata": {
    "colab": {
     "base_uri": "https://localhost:8080/"
    },
    "id": "IgDPNAGlkZf5",
    "outputId": "21260ffa-fe54-4d34-a87c-74124d504319"
   },
   "outputs": [
    {
     "name": "stdout",
     "output_type": "stream",
     "text": [
      "Model: \"sequential_5\"\n",
      "_________________________________________________________________\n",
      " Layer (type)                Output Shape              Param #   \n",
      "=================================================================\n",
      " conv2d_9 (Conv2D)           (None, 32, 32, 32)        2432      \n",
      "                                                                 \n",
      " max_pooling2d_9 (MaxPooling  (None, 16, 16, 32)       0         \n",
      " 2D)                                                             \n",
      "                                                                 \n",
      " batch_normalization_9 (Batc  (None, 16, 16, 32)       128       \n",
      " hNormalization)                                                 \n",
      "                                                                 \n",
      " conv2d_10 (Conv2D)          (None, 16, 16, 48)        38448     \n",
      "                                                                 \n",
      " max_pooling2d_10 (MaxPoolin  (None, 8, 8, 48)         0         \n",
      " g2D)                                                            \n",
      "                                                                 \n",
      " batch_normalization_10 (Bat  (None, 8, 8, 48)         192       \n",
      " chNormalization)                                                \n",
      "                                                                 \n",
      " flatten_5 (Flatten)         (None, 3072)              0         \n",
      "                                                                 \n",
      " dropout_13 (Dropout)        (None, 3072)              0         \n",
      "                                                                 \n",
      " dense_13 (Dense)            (None, 256)               786688    \n",
      "                                                                 \n",
      " dropout_14 (Dropout)        (None, 256)               0         \n",
      "                                                                 \n",
      " dense_14 (Dense)            (None, 84)                21588     \n",
      "                                                                 \n",
      " dropout_15 (Dropout)        (None, 84)                0         \n",
      "                                                                 \n",
      " dense_15 (Dense)            (None, 10)                850       \n",
      "                                                                 \n",
      "=================================================================\n",
      "Total params: 850,326\n",
      "Trainable params: 850,166\n",
      "Non-trainable params: 160\n",
      "_________________________________________________________________\n"
     ]
    }
   ],
   "source": [
    "model_v1.compile(loss=sparse_categorical_crossentropy, optimizer=tf.optimizers.Adam(), metrics=['accuracy'])\n",
    "model_v1.summary()"
   ]
  },
  {
   "cell_type": "markdown",
   "metadata": {
    "id": "0G9y7MfVmIZa"
   },
   "source": [
    "Testing the training the new version"
   ]
  },
  {
   "cell_type": "code",
   "execution_count": null,
   "metadata": {
    "colab": {
     "base_uri": "https://localhost:8080/"
    },
    "id": "PyAc8XwYkjgC",
    "outputId": "eda57928-f888-423b-9788-bce646def296"
   },
   "outputs": [
    {
     "name": "stdout",
     "output_type": "stream",
     "text": [
      "Epoch 1/8\n",
      "1562/1562 [==============================] - 248s 154ms/step - loss: 1.4568 - accuracy: 0.4851 - val_loss: 1.0884 - val_accuracy: 0.6193\n",
      "Epoch 2/8\n",
      "1562/1562 [==============================] - 237s 150ms/step - loss: 1.0596 - accuracy: 0.6327 - val_loss: 1.0505 - val_accuracy: 0.6452\n",
      "Epoch 3/8\n",
      "1562/1562 [==============================] - 233s 147ms/step - loss: 0.8993 - accuracy: 0.6898 - val_loss: 0.8409 - val_accuracy: 0.7082\n",
      "Epoch 4/8\n",
      "1562/1562 [==============================] - 238s 150ms/step - loss: 0.7889 - accuracy: 0.7262 - val_loss: 0.7919 - val_accuracy: 0.7304\n",
      "Epoch 5/8\n",
      "1562/1562 [==============================] - 236s 149ms/step - loss: 0.6986 - accuracy: 0.7573 - val_loss: 0.7926 - val_accuracy: 0.7382\n",
      "Epoch 6/8\n",
      "1562/1562 [==============================] - 235s 148ms/step - loss: 0.6233 - accuracy: 0.7830 - val_loss: 0.7262 - val_accuracy: 0.7546\n",
      "Epoch 7/8\n",
      "1562/1562 [==============================] - 228s 144ms/step - loss: 0.5546 - accuracy: 0.8063 - val_loss: 0.7321 - val_accuracy: 0.7547\n",
      "Epoch 8/8\n",
      "1562/1562 [==============================] - 234s 148ms/step - loss: 0.4994 - accuracy: 0.8256 - val_loss: 0.7383 - val_accuracy: 0.7572\n"
     ]
    }
   ],
   "source": [
    "history_v1 = model_v1.fit(train_ds, epochs=8,verbose=1,\n",
    "                    validation_data=(test_ds))"
   ]
  },
  {
   "cell_type": "markdown",
   "metadata": {
    "id": "5COAq9ComQAW"
   },
   "source": [
    "Plotting the performance of the modified input model with the baseline model"
   ]
  },
  {
   "cell_type": "code",
   "execution_count": null,
   "metadata": {
    "colab": {
     "base_uri": "https://localhost:8080/",
     "height": 295
    },
    "id": "kgvgeyOgmdFd",
    "outputId": "aca12110-9991-4cd2-ef58-4d651f80aa23"
   },
   "outputs": [
    {
     "data": {
      "image/png": "[encoded data removed]",
      "text/plain": [
       "<Figure size 432x288 with 1 Axes>"
      ]
     },
     "metadata": {
      "needs_background": "light"
     },
     "output_type": "display_data"
    }
   ],
   "source": [
    "plt.plot(history.history['val_accuracy'])\n",
    "plt.plot(history_v1.history['val_accuracy'])\n",
    "plt.title('Model Accuracy 28x28 vs 32x32')\n",
    "plt.ylabel('accuracy')\n",
    "plt.xlabel('epoch')\n",
    "plt.legend(['28x28', '32x32'], loc='upper left')\n",
    "plt.savefig('DifferentInputs')\n",
    "plt.show()"
   ]
  },
  {
   "cell_type": "markdown",
   "metadata": {
    "id": "E_CrGx8MmXV2"
   },
   "source": [
    "Plotting the accuracy of training and testing of the modified model."
   ]
  },
  {
   "cell_type": "code",
   "execution_count": null,
   "metadata": {
    "colab": {
     "base_uri": "https://localhost:8080/",
     "height": 295
    },
    "id": "sptTKjsekrSq",
    "outputId": "35729458-1c55-4fe1-e218-f5e1b0685910"
   },
   "outputs": [
    {
     "data": {
      "image/png": "[encoded data removed]",
      "text/plain": [
       "<Figure size 432x288 with 1 Axes>"
      ]
     },
     "metadata": {
      "needs_background": "light"
     },
     "output_type": "display_data"
    }
   ],
   "source": [
    "plt.plot(history_v1.history['accuracy'])\n",
    "plt.plot(history_v1.history['val_accuracy'])\n",
    "plt.title('Model Accuracy 32x32')\n",
    "plt.ylabel('accuracy')\n",
    "plt.xlabel('epoch')\n",
    "plt.legend(['train', 'val'], loc='upper left')\n",
    "plt.show()"
   ]
  },
  {
   "cell_type": "markdown",
   "metadata": {
    "id": "PGNdPk_Ymfj_"
   },
   "source": [
    "Modified baseline model with different filter sizes. This is to test how they affect the performance of the model."
   ]
  },
  {
   "cell_type": "code",
   "execution_count": null,
   "metadata": {
    "colab": {
     "base_uri": "https://localhost:8080/"
    },
    "id": "HXNk3b1axBiq",
    "outputId": "b1dc87f8-15f5-457c-8175-9af00bbab655"
   },
   "outputs": [
    {
     "name": "stdout",
     "output_type": "stream",
     "text": [
      "Model: \"sequential_10\"\n",
      "_________________________________________________________________\n",
      " Layer (type)                Output Shape              Param #   \n",
      "=================================================================\n",
      " conv2d_20 (Conv2D)          (None, 28, 28, 48)        3648      \n",
      "                                                                 \n",
      " max_pooling2d_20 (MaxPoolin  (None, 14, 14, 48)       0         \n",
      " g2D)                                                            \n",
      "                                                                 \n",
      " batch_normalization_20 (Bat  (None, 14, 14, 48)       192       \n",
      " chNormalization)                                                \n",
      "                                                                 \n",
      " conv2d_21 (Conv2D)          (None, 14, 14, 64)        76864     \n",
      "                                                                 \n",
      " max_pooling2d_21 (MaxPoolin  (None, 7, 7, 64)         0         \n",
      " g2D)                                                            \n",
      "                                                                 \n",
      " batch_normalization_21 (Bat  (None, 7, 7, 64)         256       \n",
      " chNormalization)                                                \n",
      "                                                                 \n",
      " flatten_10 (Flatten)        (None, 3136)              0         \n",
      "                                                                 \n",
      " dropout_19 (Dropout)        (None, 3136)              0         \n",
      "                                                                 \n",
      " dense_30 (Dense)            (None, 256)               803072    \n",
      "                                                                 \n",
      " dropout_20 (Dropout)        (None, 256)               0         \n",
      "                                                                 \n",
      " dense_31 (Dense)            (None, 84)                21588     \n",
      "                                                                 \n",
      " dropout_21 (Dropout)        (None, 84)                0         \n",
      "                                                                 \n",
      " dense_32 (Dense)            (None, 10)                850       \n",
      "                                                                 \n",
      "=================================================================\n",
      "Total params: 906,470\n",
      "Trainable params: 906,246\n",
      "Non-trainable params: 224\n",
      "_________________________________________________________________\n"
     ]
    }
   ],
   "source": [
    "model_dif_filter_48 = Sequential()\n",
    "\n",
    "model_dif_filter_48.add(tf.keras.layers.Conv2D(filters=48, kernel_size=(5,5), padding='same', activation='relu', input_shape=(28, 28, 3)))\n",
    "model_dif_filter_48.add(tf.keras.layers.MaxPool2D(strides=2))\n",
    "model_dif_filter_48.add(tf.keras.layers.BatchNormalization())\n",
    "model_dif_filter_48.add(tf.keras.layers.Conv2D(filters=64, kernel_size=(5,5), padding='same', activation='relu'))\n",
    "model_dif_filter_48.add(tf.keras.layers.MaxPool2D(strides=2))\n",
    "model_dif_filter_48.add(tf.keras.layers.BatchNormalization())\n",
    "model_dif_filter_48.add(tf.keras.layers.Flatten())\n",
    "model_dif_filter_48.add(tf.keras.layers.Dropout(0.2))\n",
    "model_dif_filter_48.add(tf.keras.layers.Dense(256, activation='relu'))\n",
    "model_dif_filter_48.add(tf.keras.layers.Dropout(0.2))\n",
    "model_dif_filter_48.add(tf.keras.layers.Dense(84, activation='relu'))\n",
    "model_dif_filter_48.add(tf.keras.layers.Dropout(0.2))\n",
    "model_dif_filter_48.add(tf.keras.layers.Dense(10, activation='softmax'))\n",
    "\n",
    "model_dif_filter_48.compile(loss=sparse_categorical_crossentropy, optimizer=tf.optimizers.Adam(), metrics=['accuracy'])\n",
    "model_dif_filter_48.summary()"
   ]
  },
  {
   "cell_type": "markdown",
   "metadata": {
    "id": "ajYhqp42m-fp"
   },
   "source": [
    "Training the new version of the model with the new filters and collecting the results."
   ]
  },
  {
   "cell_type": "code",
   "execution_count": null,
   "metadata": {
    "colab": {
     "base_uri": "https://localhost:8080/"
    },
    "id": "iu5-iiGXxTkE",
    "outputId": "f09a4d7a-e22d-4a22-d3f8-a56bd7fd391c"
   },
   "outputs": [
    {
     "name": "stdout",
     "output_type": "stream",
     "text": [
      "Epoch 1/8\n",
      "1562/1562 [==============================] - 233s 145ms/step - loss: 1.5060 - accuracy: 0.4674 - val_loss: 1.1221 - val_accuracy: 0.6068\n",
      "Epoch 2/8\n",
      "1562/1562 [==============================] - 261s 165ms/step - loss: 1.1048 - accuracy: 0.6185 - val_loss: 0.9164 - val_accuracy: 0.6794\n",
      "Epoch 3/8\n",
      "1562/1562 [==============================] - 265s 168ms/step - loss: 0.9333 - accuracy: 0.6799 - val_loss: 0.8740 - val_accuracy: 0.6968\n",
      "Epoch 4/8\n",
      "1562/1562 [==============================] - 269s 170ms/step - loss: 0.8233 - accuracy: 0.7180 - val_loss: 0.8155 - val_accuracy: 0.7139\n",
      "Epoch 5/8\n",
      "1562/1562 [==============================] - 270s 170ms/step - loss: 0.7270 - accuracy: 0.7504 - val_loss: 0.7930 - val_accuracy: 0.7323\n",
      "Epoch 6/8\n",
      "1562/1562 [==============================] - 260s 165ms/step - loss: 0.6489 - accuracy: 0.7738 - val_loss: 0.7590 - val_accuracy: 0.7453\n",
      "Epoch 7/8\n",
      "1562/1562 [==============================] - 274s 173ms/step - loss: 0.5849 - accuracy: 0.7969 - val_loss: 0.7878 - val_accuracy: 0.7385\n",
      "Epoch 8/8\n",
      "1562/1562 [==============================] - 260s 164ms/step - loss: 0.5191 - accuracy: 0.8201 - val_loss: 0.7525 - val_accuracy: 0.7572\n"
     ]
    }
   ],
   "source": [
    "history_dif_filter_48 = model_dif_filter_48.fit(train_ds_28, epochs=8,verbose=1,\n",
    "                    validation_data=(test_ds_28))"
   ]
  },
  {
   "cell_type": "markdown",
   "metadata": {
    "id": "CHv4N6NEnLR4"
   },
   "source": [
    "Plotting the results of the testing dataset of the baseline model and of the neew filter model."
   ]
  },
  {
   "cell_type": "code",
   "execution_count": null,
   "metadata": {
    "colab": {
     "base_uri": "https://localhost:8080/",
     "height": 295
    },
    "id": "Q_RRAzigAuGm",
    "outputId": "73ab2a81-2c1f-48fb-84f5-d50a7014c6c2"
   },
   "outputs": [
    {
     "data": {
      "image/png": "[encoded data removed]",
      "text/plain": [
       "<Figure size 432x288 with 1 Axes>"
      ]
     },
     "metadata": {
      "needs_background": "light"
     },
     "output_type": "display_data"
    }
   ],
   "source": [
    "plt.plot(history.history['val_accuracy'])\n",
    "plt.plot(history_dif_filter_48.history['val_accuracy'])\n",
    "plt.title('Model Accuracy using different filters')\n",
    "plt.ylabel('accuracy')\n",
    "plt.xlabel('epoch')\n",
    "plt.legend(['Orig', 'New'], loc='upper left')\n",
    "plt.savefig('DifferentFilters')\n",
    "plt.show()"
   ]
  },
  {
   "cell_type": "markdown",
   "metadata": {
    "id": "3isR66Ztn-Gt"
   },
   "source": [
    "Plotting the training results of the different filter version of the model."
   ]
  },
  {
   "cell_type": "code",
   "execution_count": null,
   "metadata": {
    "colab": {
     "base_uri": "https://localhost:8080/",
     "height": 295
    },
    "id": "LFWs60BOxcfv",
    "outputId": "2c346019-c1e4-40d3-8291-bf60a62b3c3c"
   },
   "outputs": [
    {
     "data": {
      "image/png": "[encoded data removed]",
      "text/plain": [
       "<Figure size 432x288 with 1 Axes>"
      ]
     },
     "metadata": {
      "needs_background": "light"
     },
     "output_type": "display_data"
    }
   ],
   "source": [
    "plt.plot(history_dif_filter_48.history['accuracy'])\n",
    "plt.plot(history_dif_filter_48.history['val_accuracy'])\n",
    "plt.title('Model Accuracy new filters')\n",
    "plt.ylabel('accuracy')\n",
    "plt.xlabel('epoch')\n",
    "plt.legend(['train', 'val'], loc='upper left')\n",
    "plt.show()"
   ]
  },
  {
   "cell_type": "markdown",
   "metadata": {
    "id": "aaMwdVf_oaz9"
   },
   "source": [
    "Preparing the data for the 32x32x3 input. The code is the same code as used for the input of size 28x28x3 used in the baseline model."
   ]
  },
  {
   "cell_type": "code",
   "execution_count": null,
   "metadata": {
    "id": "nz4GkiLz7rwO"
   },
   "outputs": [],
   "source": [
    "train_ds = tf.data.Dataset.from_tensor_slices((train_images, train_labels))\n",
    "test_ds = tf.data.Dataset.from_tensor_slices((test_images, test_labels))"
   ]
  },
  {
   "cell_type": "code",
   "execution_count": null,
   "metadata": {
    "id": "SbFeAv9O8LMp"
   },
   "outputs": [],
   "source": [
    "# Normalizing the images to avoid bias in the model\n",
    "# Dataset influenced by https://towardsdatascience.com/implementing-alexnet-cnn-architecture-using-tensorflow-2-0-and-keras-2113e090ad98\n",
    "\n",
    "def process_images(image, label):\n",
    "    # Normalize images to have a mean of 0 and standard deviation of 1\n",
    "    image = tf.image.per_image_standardization(image)\n",
    "    return image, label"
   ]
  },
  {
   "cell_type": "code",
   "execution_count": null,
   "metadata": {
    "colab": {
     "base_uri": "https://localhost:8080/"
    },
    "id": "HvypKJOv8NuW",
    "outputId": "014bfd5d-a17f-49c4-a86c-2524bed75d7f"
   },
   "outputs": [
    {
     "name": "stdout",
     "output_type": "stream",
     "text": [
      "Training data size: 50000\n",
      "Test data size: 10000\n"
     ]
    }
   ],
   "source": [
    "# Dataset influenced by https://towardsdatascience.com/implementing-alexnet-cnn-architecture-using-tensorflow-2-0-and-keras-2113e090ad98\n",
    "\n",
    "train_ds_size = tf.data.experimental.cardinality(train_ds).numpy()\n",
    "test_ds_size = tf.data.experimental.cardinality(test_ds).numpy()\n",
    "print(\"Training data size:\", train_ds_size)\n",
    "print(\"Test data size:\", test_ds_size)"
   ]
  },
  {
   "cell_type": "code",
   "execution_count": null,
   "metadata": {
    "id": "5OGwmdQC8SVW"
   },
   "outputs": [],
   "source": [
    "# Dataset influenced by https://towardsdatascience.com/implementing-alexnet-cnn-architecture-using-tensorflow-2-0-and-keras-2113e090ad98\n",
    "\n",
    "train_ds = (train_ds\n",
    "                  .map(process_images)\n",
    "                  .shuffle(buffer_size=train_ds_size)\n",
    "                  .batch(batch_size=32, drop_remainder=True))\n",
    "test_ds = (test_ds\n",
    "                  .map(process_images)\n",
    "                  .shuffle(buffer_size=train_ds_size)\n",
    "                  .batch(batch_size=32, drop_remainder=True))"
   ]
  },
  {
   "cell_type": "markdown",
   "metadata": {
    "id": "eZU6kzuno1vw"
   },
   "source": [
    "Modifying the baseline model to accomodate the strides modification in the input model. This is to see the effect that the stride has on the output of the model."
   ]
  },
  {
   "cell_type": "code",
   "execution_count": null,
   "metadata": {
    "colab": {
     "base_uri": "https://localhost:8080/"
    },
    "id": "5Mojf8HtA0rw",
    "outputId": "2786ce8c-91e2-426c-a677-50d043a99ef6"
   },
   "outputs": [
    {
     "name": "stdout",
     "output_type": "stream",
     "text": [
      "Model: \"sequential_14\"\n",
      "_________________________________________________________________\n",
      " Layer (type)                Output Shape              Param #   \n",
      "=================================================================\n",
      " conv2d_31 (Conv2D)          (None, 14, 14, 48)        3648      \n",
      "                                                                 \n",
      " max_pooling2d_31 (MaxPoolin  (None, 7, 7, 48)         0         \n",
      " g2D)                                                            \n",
      "                                                                 \n",
      " batch_normalization_31 (Bat  (None, 7, 7, 48)         192       \n",
      " chNormalization)                                                \n",
      "                                                                 \n",
      " conv2d_32 (Conv2D)          (None, 7, 7, 64)          76864     \n",
      "                                                                 \n",
      " max_pooling2d_32 (MaxPoolin  (None, 3, 3, 64)         0         \n",
      " g2D)                                                            \n",
      "                                                                 \n",
      " batch_normalization_32 (Bat  (None, 3, 3, 64)         256       \n",
      " chNormalization)                                                \n",
      "                                                                 \n",
      " conv2d_33 (Conv2D)          (None, 3, 3, 128)         204928    \n",
      "                                                                 \n",
      " max_pooling2d_33 (MaxPoolin  (None, 1, 1, 128)        0         \n",
      " g2D)                                                            \n",
      "                                                                 \n",
      " batch_normalization_33 (Bat  (None, 1, 1, 128)        512       \n",
      " chNormalization)                                                \n",
      "                                                                 \n",
      " flatten_14 (Flatten)        (None, 128)               0         \n",
      "                                                                 \n",
      " dropout_30 (Dropout)        (None, 128)               0         \n",
      "                                                                 \n",
      " dense_42 (Dense)            (None, 256)               33024     \n",
      "                                                                 \n",
      " dropout_31 (Dropout)        (None, 256)               0         \n",
      "                                                                 \n",
      " dense_43 (Dense)            (None, 84)                21588     \n",
      "                                                                 \n",
      " dropout_32 (Dropout)        (None, 84)                0         \n",
      "                                                                 \n",
      " dense_44 (Dense)            (None, 10)                850       \n",
      "                                                                 \n",
      "=================================================================\n",
      "Total params: 341,862\n",
      "Trainable params: 341,382\n",
      "Non-trainable params: 480\n",
      "_________________________________________________________________\n"
     ]
    }
   ],
   "source": [
    "model_stride = Sequential()\n",
    "\n",
    "model_stride.add(tf.keras.layers.Conv2D(filters=48, kernel_size=(5,5), padding='same', activation='relu', input_shape=(28, 28, 3), strides=2))\n",
    "model_stride.add(tf.keras.layers.MaxPool2D(strides=2))\n",
    "model_stride.add(tf.keras.layers.BatchNormalization())\n",
    "model_stride.add(tf.keras.layers.Conv2D(filters=64, kernel_size=(5,5), padding='same', activation='relu'))\n",
    "model_stride.add(tf.keras.layers.MaxPool2D(strides=2))\n",
    "model_stride.add(tf.keras.layers.BatchNormalization())\n",
    "model_stride.add(tf.keras.layers.Conv2D(filters=128, kernel_size=(5,5), padding='same', activation='relu'))\n",
    "model_stride.add(tf.keras.layers.MaxPool2D(strides=2))\n",
    "model_stride.add(tf.keras.layers.BatchNormalization())\n",
    "model_stride.add(tf.keras.layers.Flatten())\n",
    "model_stride.add(tf.keras.layers.Dropout(0.2))\n",
    "model_stride.add(tf.keras.layers.Dense(256, activation='relu'))\n",
    "model_stride.add(tf.keras.layers.Dropout(0.2))\n",
    "model_stride.add(tf.keras.layers.Dense(84, activation='relu'))\n",
    "model_stride.add(tf.keras.layers.Dropout(0.2))\n",
    "model_stride.add(tf.keras.layers.Dense(10, activation='softmax'))\n",
    "\n",
    "model_stride.compile(loss=sparse_categorical_crossentropy, optimizer=tf.optimizers.Adam(), metrics=['accuracy'])\n",
    "model_stride.summary()"
   ]
  },
  {
   "cell_type": "markdown",
   "metadata": {
    "id": "UZCfsaQypbcM"
   },
   "source": [
    "Training the model."
   ]
  },
  {
   "cell_type": "code",
   "execution_count": null,
   "metadata": {
    "colab": {
     "base_uri": "https://localhost:8080/"
    },
    "id": "-w9d63CLEIDN",
    "outputId": "9a0fa1c1-0e65-4862-f830-d1331d6210b2"
   },
   "outputs": [
    {
     "name": "stdout",
     "output_type": "stream",
     "text": [
      "Epoch 1/8\n",
      "1562/1562 [==============================] - 132s 81ms/step - loss: 1.5017 - accuracy: 0.4635 - val_loss: 1.1791 - val_accuracy: 0.5757\n",
      "Epoch 2/8\n",
      "1562/1562 [==============================] - 124s 77ms/step - loss: 1.1537 - accuracy: 0.5973 - val_loss: 1.0094 - val_accuracy: 0.6462\n",
      "Epoch 3/8\n",
      "1562/1562 [==============================] - 125s 78ms/step - loss: 0.9890 - accuracy: 0.6559 - val_loss: 0.9428 - val_accuracy: 0.6717\n",
      "Epoch 4/8\n",
      "1562/1562 [==============================] - 125s 78ms/step - loss: 0.8793 - accuracy: 0.6983 - val_loss: 0.8992 - val_accuracy: 0.6864\n",
      "Epoch 5/8\n",
      "1562/1562 [==============================] - 126s 78ms/step - loss: 0.7949 - accuracy: 0.7298 - val_loss: 0.8462 - val_accuracy: 0.7103\n",
      "Epoch 6/8\n",
      "1562/1562 [==============================] - 125s 78ms/step - loss: 0.7276 - accuracy: 0.7503 - val_loss: 0.8514 - val_accuracy: 0.7075\n",
      "Epoch 7/8\n",
      "1562/1562 [==============================] - 124s 77ms/step - loss: 0.6577 - accuracy: 0.7738 - val_loss: 0.8716 - val_accuracy: 0.7065\n",
      "Epoch 8/8\n",
      "1562/1562 [==============================] - 124s 77ms/step - loss: 0.6073 - accuracy: 0.7922 - val_loss: 0.8683 - val_accuracy: 0.7143\n"
     ]
    }
   ],
   "source": [
    "history_stride = model_stride.fit(train_ds_28, epochs=8,verbose=1, validation_data=test_ds_28)"
   ]
  },
  {
   "cell_type": "markdown",
   "metadata": {
    "id": "3v-EWPuspfRu"
   },
   "source": [
    "Poltting the training and testing accuracy of the model."
   ]
  },
  {
   "cell_type": "code",
   "execution_count": null,
   "metadata": {
    "colab": {
     "base_uri": "https://localhost:8080/",
     "height": 295
    },
    "id": "5r04ULc7HRNu",
    "outputId": "cdd1b12d-0ad3-4ca1-c18d-3ea9f2470cca"
   },
   "outputs": [
    {
     "data": {
      "image/png": "[encoded data removed]",
      "text/plain": [
       "<Figure size 432x288 with 1 Axes>"
      ]
     },
     "metadata": {
      "needs_background": "light"
     },
     "output_type": "display_data"
    }
   ],
   "source": [
    "plt.plot(history_stride.history['accuracy'])\n",
    "plt.plot(history_stride.history['val_accuracy'])\n",
    "plt.title('Model Accuracy with stride')\n",
    "plt.ylabel('accuracy')\n",
    "plt.xlabel('epoch')\n",
    "plt.legend(['train', 'val'], loc='upper left')\n",
    "plt.show()"
   ]
  },
  {
   "cell_type": "markdown",
   "metadata": {
    "id": "SLXKA1Xvpk_2"
   },
   "source": [
    "Plotting the difference in accuracy of the baseline model and of the model with different stride."
   ]
  },
  {
   "cell_type": "code",
   "execution_count": null,
   "metadata": {
    "colab": {
     "base_uri": "https://localhost:8080/",
     "height": 295
    },
    "id": "5R_nys_cL0P4",
    "outputId": "2ed46e65-ec61-42cd-cd7a-a28a662969a9"
   },
   "outputs": [
    {
     "data": {
      "image/png": "[encoded data removed]",
      "text/plain": [
       "<Figure size 432x288 with 1 Axes>"
      ]
     },
     "metadata": {
      "needs_background": "light"
     },
     "output_type": "display_data"
    }
   ],
   "source": [
    "plt.plot(history.history['val_accuracy'])\n",
    "plt.plot(history_stride.history['val_accuracy'])\n",
    "plt.title('Model Accuracy with stride vs without')\n",
    "plt.ylabel('accuracy')\n",
    "plt.xlabel('epoch')\n",
    "plt.legend(['Without', 'Stride'], loc='upper left')\n",
    "plt.savefig('Stride')\n",
    "plt.show()"
   ]
  },
  {
   "cell_type": "markdown",
   "metadata": {
    "id": "gLICdJoipshj"
   },
   "source": [
    "Dropout is considered an important component in creating a model that learns from robust features and is resilient in the data noise. Since the model cannot rely on other neurons and it avoids overfitting.\n",
    "\n"
   ]
  },
  {
   "cell_type": "code",
   "execution_count": null,
   "metadata": {
    "colab": {
     "base_uri": "https://localhost:8080/"
    },
    "id": "IfBjwJi3Riid",
    "outputId": "4b98ae9e-89c5-4c0b-eb74-d9ecea2d82a8"
   },
   "outputs": [
    {
     "name": "stdout",
     "output_type": "stream",
     "text": [
      "Model: \"sequential_15\"\n",
      "_________________________________________________________________\n",
      " Layer (type)                Output Shape              Param #   \n",
      "=================================================================\n",
      " conv2d_34 (Conv2D)          (None, 28, 28, 32)        2432      \n",
      "                                                                 \n",
      " max_pooling2d_34 (MaxPoolin  (None, 14, 14, 32)       0         \n",
      " g2D)                                                            \n",
      "                                                                 \n",
      " batch_normalization_34 (Bat  (None, 14, 14, 32)       128       \n",
      " chNormalization)                                                \n",
      "                                                                 \n",
      " conv2d_35 (Conv2D)          (None, 14, 14, 48)        38448     \n",
      "                                                                 \n",
      " max_pooling2d_35 (MaxPoolin  (None, 7, 7, 48)         0         \n",
      " g2D)                                                            \n",
      "                                                                 \n",
      " batch_normalization_35 (Bat  (None, 7, 7, 48)         192       \n",
      " chNormalization)                                                \n",
      "                                                                 \n",
      " flatten_15 (Flatten)        (None, 2352)              0         \n",
      "                                                                 \n",
      " dense_45 (Dense)            (None, 256)               602368    \n",
      "                                                                 \n",
      " dense_46 (Dense)            (None, 84)                21588     \n",
      "                                                                 \n",
      " dense_47 (Dense)            (None, 10)                850       \n",
      "                                                                 \n",
      "=================================================================\n",
      "Total params: 666,006\n",
      "Trainable params: 665,846\n",
      "Non-trainable params: 160\n",
      "_________________________________________________________________\n"
     ]
    }
   ],
   "source": [
    "model_no_dropout = Sequential()\n",
    "\n",
    "model_no_dropout.add(tf.keras.layers.Conv2D(filters=32, kernel_size=(5,5), padding='same', activation='relu', input_shape=(28, 28, 3)))\n",
    "model_no_dropout.add(tf.keras.layers.MaxPool2D(strides=2))\n",
    "model_no_dropout.add(tf.keras.layers.BatchNormalization())\n",
    "model_no_dropout.add(tf.keras.layers.Conv2D(filters=48, kernel_size=(5,5), padding='same', activation='relu'))\n",
    "model_no_dropout.add(tf.keras.layers.MaxPool2D(strides=2))\n",
    "model_no_dropout.add(tf.keras.layers.BatchNormalization())\n",
    "model_no_dropout.add(tf.keras.layers.Flatten())\n",
    "model_no_dropout.add(tf.keras.layers.Dense(256, activation='relu'))\n",
    "model_no_dropout.add(tf.keras.layers.Dense(84, activation='relu'))\n",
    "model_no_dropout.add(tf.keras.layers.Dense(10, activation='softmax'))\n",
    "\n",
    "model_no_dropout.compile(loss=sparse_categorical_crossentropy, optimizer=tf.optimizers.Adam(), metrics=['accuracy'])\n",
    "model_no_dropout.summary()"
   ]
  },
  {
   "cell_type": "code",
   "execution_count": null,
   "metadata": {
    "colab": {
     "base_uri": "https://localhost:8080/"
    },
    "id": "zzJKDIJqR95t",
    "outputId": "c0ffcd5d-a0d6-4756-a283-70684beac167"
   },
   "outputs": [
    {
     "name": "stdout",
     "output_type": "stream",
     "text": [
      "Epoch 1/8\n",
      "1562/1562 [==============================] - 199s 123ms/step - loss: 1.2880 - accuracy: 0.5451 - val_loss: 1.0252 - val_accuracy: 0.6377\n",
      "Epoch 2/8\n",
      "1562/1562 [==============================] - 197s 124ms/step - loss: 0.8763 - accuracy: 0.6902 - val_loss: 0.9033 - val_accuracy: 0.6859\n",
      "Epoch 3/8\n",
      "1562/1562 [==============================] - 202s 126ms/step - loss: 0.6798 - accuracy: 0.7630 - val_loss: 0.8338 - val_accuracy: 0.7120\n",
      "Epoch 4/8\n",
      "1562/1562 [==============================] - 195s 123ms/step - loss: 0.5252 - accuracy: 0.8135 - val_loss: 0.8506 - val_accuracy: 0.7236\n",
      "Epoch 5/8\n",
      "1562/1562 [==============================] - 204s 129ms/step - loss: 0.3870 - accuracy: 0.8654 - val_loss: 0.9909 - val_accuracy: 0.7114\n",
      "Epoch 6/8\n",
      "1562/1562 [==============================] - 203s 128ms/step - loss: 0.2859 - accuracy: 0.8979 - val_loss: 1.0723 - val_accuracy: 0.7197\n",
      "Epoch 7/8\n",
      "1562/1562 [==============================] - 201s 127ms/step - loss: 0.2214 - accuracy: 0.9229 - val_loss: 1.1924 - val_accuracy: 0.7153\n",
      "Epoch 8/8\n",
      "1562/1562 [==============================] - 198s 125ms/step - loss: 0.1718 - accuracy: 0.9395 - val_loss: 1.3045 - val_accuracy: 0.7175\n"
     ]
    }
   ],
   "source": [
    "history_no_dropout = model_no_dropout.fit(train_ds_28, epochs=8,verbose=1, validation_data=test_ds_28)"
   ]
  },
  {
   "cell_type": "markdown",
   "metadata": {
    "id": "jQ8qIXiAuVia"
   },
   "source": [
    "Plotting the difference of using dropout and not"
   ]
  },
  {
   "cell_type": "code",
   "execution_count": null,
   "metadata": {
    "colab": {
     "base_uri": "https://localhost:8080/",
     "height": 295
    },
    "id": "rH1JHjejSEJG",
    "outputId": "c20526ed-e60b-46d9-b95d-6890e267de48"
   },
   "outputs": [
    {
     "data": {
      "image/png": "[encoded data removed]",
      "text/plain": [
       "<Figure size 432x288 with 1 Axes>"
      ]
     },
     "metadata": {
      "needs_background": "light"
     },
     "output_type": "display_data"
    }
   ],
   "source": [
    "plt.plot(history.history['val_accuracy'])\n",
    "plt.plot(history_no_dropout.history['val_accuracy'])\n",
    "plt.title('Model Accuracy with dropout vs without')\n",
    "plt.ylabel('accuracy')\n",
    "plt.xlabel('epoch')\n",
    "plt.legend(['With', 'Without'], loc='upper left')\n",
    "plt.savefig('NoDropout')\n",
    "plt.show()"
   ]
  },
  {
   "cell_type": "markdown",
   "metadata": {
    "id": "T-LpeNdnut8A"
   },
   "source": [
    "Implementing a simple architecture to evaluate different modfications in the activation function.\n",
    "\n",
    "The simple model used ReLu in the input layer and Softmax in the output layer.\n",
    "\n",
    "\n",
    "Naming works like the following, simple_model_[activation] indicates the activation function in the convolutional layer that is being tested. All tests are conducted with the output layer having a softmax activation function.\n",
    "\n",
    "\n",
    "simple_model_[activation]_end indicates the activation function used in the output layer."
   ]
  },
  {
   "cell_type": "code",
   "execution_count": null,
   "metadata": {
    "colab": {
     "base_uri": "https://localhost:8080/"
    },
    "id": "Y0ZgoAwJD1BO",
    "outputId": "96dbf1dd-7619-41d6-8ff0-147f76dc4fe9"
   },
   "outputs": [
    {
     "name": "stdout",
     "output_type": "stream",
     "text": [
      "Model: \"sequential_6\"\n",
      "_________________________________________________________________\n",
      " Layer (type)                Output Shape              Param #   \n",
      "=================================================================\n",
      " conv2d_11 (Conv2D)          (None, 28, 28, 32)        2432      \n",
      "                                                                 \n",
      " max_pooling2d_11 (MaxPoolin  (None, 14, 14, 32)       0         \n",
      " g2D)                                                            \n",
      "                                                                 \n",
      " batch_normalization_11 (Bat  (None, 14, 14, 32)       128       \n",
      " chNormalization)                                                \n",
      "                                                                 \n",
      " flatten_6 (Flatten)         (None, 6272)              0         \n",
      "                                                                 \n",
      " dropout_16 (Dropout)        (None, 6272)              0         \n",
      "                                                                 \n",
      " dense_16 (Dense)            (None, 10)                62730     \n",
      "                                                                 \n",
      "=================================================================\n",
      "Total params: 65,290\n",
      "Trainable params: 65,226\n",
      "Non-trainable params: 64\n",
      "_________________________________________________________________\n"
     ]
    }
   ],
   "source": [
    "simple_model = Sequential()\n",
    "\n",
    "simple_model.add(tf.keras.layers.Conv2D(filters=32, kernel_size=(5,5), padding='same', activation='relu', input_shape=(28, 28, 3)))\n",
    "simple_model.add(tf.keras.layers.MaxPool2D(strides=2))\n",
    "simple_model.add(tf.keras.layers.BatchNormalization())\n",
    "simple_model.add(tf.keras.layers.Flatten())\n",
    "simple_model.add(tf.keras.layers.Dropout(0.2))\n",
    "simple_model.add(tf.keras.layers.Dense(10, activation='softmax'))\n",
    "\n",
    "simple_model.compile(loss=sparse_categorical_crossentropy, optimizer=tf.optimizers.Adam(), metrics=['accuracy'])\n",
    "simple_model.summary()"
   ]
  },
  {
   "cell_type": "code",
   "execution_count": null,
   "metadata": {
    "colab": {
     "base_uri": "https://localhost:8080/"
    },
    "id": "t4LWweXfEAvj",
    "outputId": "4a4ffc75-1393-4b2b-cbe1-8c9c823c7ae4"
   },
   "outputs": [
    {
     "name": "stdout",
     "output_type": "stream",
     "text": [
      "Epoch 1/8\n",
      "1562/1562 [==============================] - 100s 58ms/step - loss: 1.6308 - accuracy: 0.4805 - val_loss: 1.2488 - val_accuracy: 0.5681\n",
      "Epoch 2/8\n",
      "1562/1562 [==============================] - 84s 52ms/step - loss: 1.1667 - accuracy: 0.5960 - val_loss: 1.1286 - val_accuracy: 0.6065\n",
      "Epoch 3/8\n",
      "1562/1562 [==============================] - 82s 50ms/step - loss: 1.0706 - accuracy: 0.6273 - val_loss: 1.0846 - val_accuracy: 0.6240\n",
      "Epoch 4/8\n",
      "1562/1562 [==============================] - 81s 50ms/step - loss: 1.0202 - accuracy: 0.6471 - val_loss: 1.0737 - val_accuracy: 0.6307\n",
      "Epoch 5/8\n",
      "1562/1562 [==============================] - 82s 50ms/step - loss: 0.9817 - accuracy: 0.6627 - val_loss: 1.0734 - val_accuracy: 0.6292\n",
      "Epoch 6/8\n",
      "1562/1562 [==============================] - 82s 50ms/step - loss: 0.9524 - accuracy: 0.6695 - val_loss: 1.0515 - val_accuracy: 0.6390\n",
      "Epoch 7/8\n",
      "1562/1562 [==============================] - 81s 50ms/step - loss: 0.9236 - accuracy: 0.6798 - val_loss: 1.0521 - val_accuracy: 0.6386\n",
      "Epoch 8/8\n",
      "1562/1562 [==============================] - 83s 51ms/step - loss: 0.9012 - accuracy: 0.6879 - val_loss: 1.0381 - val_accuracy: 0.6461\n"
     ]
    }
   ],
   "source": [
    "history_simple = simple_model.fit(train_ds_28, epochs=8,verbose=1, validation_data=test_ds_28)"
   ]
  },
  {
   "cell_type": "code",
   "execution_count": null,
   "metadata": {
    "colab": {
     "base_uri": "https://localhost:8080/"
    },
    "id": "SDjt1UitOQg1",
    "outputId": "df2ece0a-9361-432f-87c2-0694855bbb31"
   },
   "outputs": [
    {
     "name": "stdout",
     "output_type": "stream",
     "text": [
      "Model: \"sequential_28\"\n",
      "_________________________________________________________________\n",
      " Layer (type)                Output Shape              Param #   \n",
      "=================================================================\n",
      " conv2d_48 (Conv2D)          (None, 28, 28, 32)        2432      \n",
      "                                                                 \n",
      " max_pooling2d_48 (MaxPoolin  (None, 14, 14, 32)       0         \n",
      " g2D)                                                            \n",
      "                                                                 \n",
      " batch_normalization_48 (Bat  (None, 14, 14, 32)       128       \n",
      " chNormalization)                                                \n",
      "                                                                 \n",
      " flatten_28 (Flatten)        (None, 6272)              0         \n",
      "                                                                 \n",
      " dropout_44 (Dropout)        (None, 6272)              0         \n",
      "                                                                 \n",
      " dense_59 (Dense)            (None, 10)                62730     \n",
      "                                                                 \n",
      "=================================================================\n",
      "Total params: 65,290\n",
      "Trainable params: 65,226\n",
      "Non-trainable params: 64\n",
      "_________________________________________________________________\n"
     ]
    }
   ],
   "source": [
    "simple_model_softmax = Sequential()\n",
    "\n",
    "simple_model_softmax.add(tf.keras.layers.Conv2D(filters=32, kernel_size=(5,5), padding='same', activation='softmax', input_shape=(28, 28, 3)))\n",
    "simple_model_softmax.add(tf.keras.layers.MaxPool2D(strides=2))\n",
    "simple_model_softmax.add(tf.keras.layers.BatchNormalization())\n",
    "simple_model_softmax.add(tf.keras.layers.Flatten())\n",
    "simple_model_softmax.add(tf.keras.layers.Dropout(0.2))\n",
    "simple_model_softmax.add(tf.keras.layers.Dense(10, activation='softmax'))\n",
    "\n",
    "simple_model_softmax.compile(loss=sparse_categorical_crossentropy, optimizer=tf.optimizers.Adam(), metrics=['accuracy'])\n",
    "simple_model_softmax.summary()"
   ]
  },
  {
   "cell_type": "code",
   "execution_count": null,
   "metadata": {
    "colab": {
     "base_uri": "https://localhost:8080/"
    },
    "id": "gvaHSWFOOZFC",
    "outputId": "9c558d29-ee50-432e-fbd6-d00e67bf6086"
   },
   "outputs": [
    {
     "name": "stdout",
     "output_type": "stream",
     "text": [
      "Epoch 1/8\n",
      "1562/1562 [==============================] - 97s 57ms/step - loss: 1.4131 - accuracy: 0.5069 - val_loss: 1.2291 - val_accuracy: 0.5797\n",
      "Epoch 2/8\n",
      "1562/1562 [==============================] - 93s 58ms/step - loss: 1.1856 - accuracy: 0.5941 - val_loss: 1.2195 - val_accuracy: 0.5854\n",
      "Epoch 3/8\n",
      "1562/1562 [==============================] - 93s 57ms/step - loss: 1.1034 - accuracy: 0.6185 - val_loss: 1.1568 - val_accuracy: 0.6092\n",
      "Epoch 4/8\n",
      "1562/1562 [==============================] - 92s 57ms/step - loss: 1.0485 - accuracy: 0.6381 - val_loss: 1.1292 - val_accuracy: 0.6213\n",
      "Epoch 5/8\n",
      "1562/1562 [==============================] - 93s 58ms/step - loss: 1.0086 - accuracy: 0.6528 - val_loss: 1.1095 - val_accuracy: 0.6227\n",
      "Epoch 6/8\n",
      "1562/1562 [==============================] - 92s 57ms/step - loss: 0.9728 - accuracy: 0.6618 - val_loss: 1.0964 - val_accuracy: 0.6289\n",
      "Epoch 7/8\n",
      "1562/1562 [==============================] - 92s 57ms/step - loss: 0.9474 - accuracy: 0.6722 - val_loss: 1.1138 - val_accuracy: 0.6286\n",
      "Epoch 8/8\n",
      "1562/1562 [==============================] - 91s 56ms/step - loss: 0.9186 - accuracy: 0.6820 - val_loss: 1.0859 - val_accuracy: 0.6385\n"
     ]
    }
   ],
   "source": [
    "history_simple_softmax = simple_model_softmax.fit(train_ds_28, epochs=8,verbose=1, validation_data=test_ds_28)"
   ]
  },
  {
   "cell_type": "code",
   "execution_count": null,
   "metadata": {
    "colab": {
     "base_uri": "https://localhost:8080/"
    },
    "id": "8M6bHUcNbIhS",
    "outputId": "345bc6dc-bc65-4be7-b9a1-d3c599616919"
   },
   "outputs": [
    {
     "name": "stdout",
     "output_type": "stream",
     "text": [
      "Model: \"sequential_18\"\n",
      "_________________________________________________________________\n",
      " Layer (type)                Output Shape              Param #   \n",
      "=================================================================\n",
      " conv2d_38 (Conv2D)          (None, 28, 28, 32)        2432      \n",
      "                                                                 \n",
      " max_pooling2d_38 (MaxPoolin  (None, 14, 14, 32)       0         \n",
      " g2D)                                                            \n",
      "                                                                 \n",
      " batch_normalization_38 (Bat  (None, 14, 14, 32)       128       \n",
      " chNormalization)                                                \n",
      "                                                                 \n",
      " flatten_18 (Flatten)        (None, 6272)              0         \n",
      "                                                                 \n",
      " dropout_34 (Dropout)        (None, 6272)              0         \n",
      "                                                                 \n",
      " dense_49 (Dense)            (None, 10)                62730     \n",
      "                                                                 \n",
      "=================================================================\n",
      "Total params: 65,290\n",
      "Trainable params: 65,226\n",
      "Non-trainable params: 64\n",
      "_________________________________________________________________\n"
     ]
    }
   ],
   "source": [
    "simple_model_relu = Sequential()\n",
    "\n",
    "simple_model_relu.add(tf.keras.layers.Conv2D(filters=32, kernel_size=(5,5), padding='same', activation='relu', input_shape=(28, 28, 3)))\n",
    "simple_model_relu.add(tf.keras.layers.MaxPool2D(strides=2))\n",
    "simple_model_relu.add(tf.keras.layers.BatchNormalization())\n",
    "simple_model_relu.add(tf.keras.layers.Flatten())\n",
    "simple_model_relu.add(tf.keras.layers.Dropout(0.2))\n",
    "simple_model_relu.add(tf.keras.layers.Dense(10, activation='softmax'))\n",
    "\n",
    "simple_model_relu.compile(loss=sparse_categorical_crossentropy, optimizer=tf.optimizers.Adam(), metrics=['accuracy'])\n",
    "simple_model_relu.summary()"
   ]
  },
  {
   "cell_type": "code",
   "execution_count": null,
   "metadata": {
    "colab": {
     "base_uri": "https://localhost:8080/"
    },
    "id": "_SymvYhCcxG_",
    "outputId": "d2e0a14c-0c8c-4a69-e460-fe008b11520b"
   },
   "outputs": [
    {
     "name": "stdout",
     "output_type": "stream",
     "text": [
      "Epoch 1/8\n",
      "1562/1562 [==============================] - 113s 70ms/step - loss: 1.6073 - accuracy: 0.4886 - val_loss: 1.2022 - val_accuracy: 0.5891\n",
      "Epoch 2/8\n",
      "1562/1562 [==============================] - 99s 61ms/step - loss: 1.1352 - accuracy: 0.6095 - val_loss: 1.1232 - val_accuracy: 0.6149\n",
      "Epoch 3/8\n",
      "1562/1562 [==============================] - 105s 65ms/step - loss: 1.0543 - accuracy: 0.6314 - val_loss: 1.0737 - val_accuracy: 0.6309\n",
      "Epoch 4/8\n",
      "1562/1562 [==============================] - 114s 71ms/step - loss: 1.0098 - accuracy: 0.6513 - val_loss: 1.0751 - val_accuracy: 0.6323\n",
      "Epoch 5/8\n",
      "1562/1562 [==============================] - 115s 72ms/step - loss: 0.9796 - accuracy: 0.6622 - val_loss: 1.0551 - val_accuracy: 0.6344\n",
      "Epoch 6/8\n",
      "1562/1562 [==============================] - 115s 72ms/step - loss: 0.9518 - accuracy: 0.6710 - val_loss: 1.0317 - val_accuracy: 0.6418\n",
      "Epoch 7/8\n",
      "1562/1562 [==============================] - 111s 69ms/step - loss: 0.9265 - accuracy: 0.6789 - val_loss: 1.0579 - val_accuracy: 0.6406\n",
      "Epoch 8/8\n",
      "1562/1562 [==============================] - 113s 70ms/step - loss: 0.9072 - accuracy: 0.6849 - val_loss: 1.0232 - val_accuracy: 0.6455\n"
     ]
    }
   ],
   "source": [
    "history_relu = simple_model_relu.fit(train_ds_28, epochs=8,verbose=1, validation_data=test_ds_28)"
   ]
  },
  {
   "cell_type": "code",
   "execution_count": null,
   "metadata": {
    "colab": {
     "base_uri": "https://localhost:8080/"
    },
    "id": "eenDDQC9cDV0",
    "outputId": "7870fc57-ca0b-4ae2-99dd-d63a06cbc05c"
   },
   "outputs": [
    {
     "name": "stdout",
     "output_type": "stream",
     "text": [
      "Model: \"sequential_19\"\n",
      "_________________________________________________________________\n",
      " Layer (type)                Output Shape              Param #   \n",
      "=================================================================\n",
      " conv2d_39 (Conv2D)          (None, 28, 28, 32)        2432      \n",
      "                                                                 \n",
      " max_pooling2d_39 (MaxPoolin  (None, 14, 14, 32)       0         \n",
      " g2D)                                                            \n",
      "                                                                 \n",
      " batch_normalization_39 (Bat  (None, 14, 14, 32)       128       \n",
      " chNormalization)                                                \n",
      "                                                                 \n",
      " flatten_19 (Flatten)        (None, 6272)              0         \n",
      "                                                                 \n",
      " dropout_35 (Dropout)        (None, 6272)              0         \n",
      "                                                                 \n",
      " dense_50 (Dense)            (None, 10)                62730     \n",
      "                                                                 \n",
      "=================================================================\n",
      "Total params: 65,290\n",
      "Trainable params: 65,226\n",
      "Non-trainable params: 64\n",
      "_________________________________________________________________\n"
     ]
    }
   ],
   "source": [
    "simple_model_sigmoid = Sequential()\n",
    "\n",
    "simple_model_sigmoid.add(tf.keras.layers.Conv2D(filters=32, kernel_size=(5,5), padding='same', activation='sigmoid', input_shape=(28, 28, 3)))\n",
    "simple_model_sigmoid.add(tf.keras.layers.MaxPool2D(strides=2))\n",
    "simple_model_sigmoid.add(tf.keras.layers.BatchNormalization())\n",
    "simple_model_sigmoid.add(tf.keras.layers.Flatten())\n",
    "simple_model_sigmoid.add(tf.keras.layers.Dropout(0.2))\n",
    "simple_model_sigmoid.add(tf.keras.layers.Dense(10, activation='softmax'))\n",
    "\n",
    "simple_model_sigmoid.compile(loss=sparse_categorical_crossentropy, optimizer=tf.optimizers.Adam(), metrics=['accuracy'])\n",
    "simple_model_sigmoid.summary()"
   ]
  },
  {
   "cell_type": "code",
   "execution_count": null,
   "metadata": {
    "colab": {
     "base_uri": "https://localhost:8080/"
    },
    "id": "YbGvhiB1c3Ma",
    "outputId": "37d1ef64-eb02-4e20-e42e-82f8e6e61329"
   },
   "outputs": [
    {
     "name": "stdout",
     "output_type": "stream",
     "text": [
      "Epoch 1/8\n",
      "1562/1562 [==============================] - 127s 78ms/step - loss: 1.6794 - accuracy: 0.4537 - val_loss: 1.3437 - val_accuracy: 0.5402\n",
      "Epoch 2/8\n",
      "1562/1562 [==============================] - 125s 78ms/step - loss: 1.2512 - accuracy: 0.5674 - val_loss: 1.1994 - val_accuracy: 0.5847\n",
      "Epoch 3/8\n",
      "1562/1562 [==============================] - 125s 78ms/step - loss: 1.1540 - accuracy: 0.6002 - val_loss: 1.1810 - val_accuracy: 0.5884\n",
      "Epoch 4/8\n",
      "1562/1562 [==============================] - 116s 72ms/step - loss: 1.0937 - accuracy: 0.6208 - val_loss: 1.1168 - val_accuracy: 0.6107\n",
      "Epoch 5/8\n",
      "1562/1562 [==============================] - 119s 74ms/step - loss: 1.0492 - accuracy: 0.6369 - val_loss: 1.1021 - val_accuracy: 0.6182\n",
      "Epoch 6/8\n",
      "1562/1562 [==============================] - 119s 74ms/step - loss: 1.0182 - accuracy: 0.6454 - val_loss: 1.0710 - val_accuracy: 0.6300\n",
      "Epoch 7/8\n",
      "1562/1562 [==============================] - 128s 79ms/step - loss: 0.9874 - accuracy: 0.6553 - val_loss: 1.0750 - val_accuracy: 0.6268\n",
      "Epoch 8/8\n",
      "1562/1562 [==============================] - 129s 81ms/step - loss: 0.9632 - accuracy: 0.6661 - val_loss: 1.0568 - val_accuracy: 0.6356\n"
     ]
    }
   ],
   "source": [
    "history_sigmoid = simple_model_sigmoid.fit(train_ds_28, epochs=8,verbose=1, validation_data=test_ds_28)"
   ]
  },
  {
   "cell_type": "code",
   "execution_count": null,
   "metadata": {
    "colab": {
     "base_uri": "https://localhost:8080/"
    },
    "id": "q9GoFNBTcM14",
    "outputId": "8e6d4583-d1e8-4f49-d53f-21be8b1a569c"
   },
   "outputs": [
    {
     "name": "stdout",
     "output_type": "stream",
     "text": [
      "Model: \"sequential_24\"\n",
      "_________________________________________________________________\n",
      " Layer (type)                Output Shape              Param #   \n",
      "=================================================================\n",
      " conv2d_44 (Conv2D)          (None, 28, 28, 32)        2432      \n",
      "                                                                 \n",
      " max_pooling2d_44 (MaxPoolin  (None, 14, 14, 32)       0         \n",
      " g2D)                                                            \n",
      "                                                                 \n",
      " batch_normalization_44 (Bat  (None, 14, 14, 32)       128       \n",
      " chNormalization)                                                \n",
      "                                                                 \n",
      " flatten_24 (Flatten)        (None, 6272)              0         \n",
      "                                                                 \n",
      " dropout_40 (Dropout)        (None, 6272)              0         \n",
      "                                                                 \n",
      " dense_55 (Dense)            (None, 10)                62730     \n",
      "                                                                 \n",
      "=================================================================\n",
      "Total params: 65,290\n",
      "Trainable params: 65,226\n",
      "Non-trainable params: 64\n",
      "_________________________________________________________________\n"
     ]
    }
   ],
   "source": [
    "simple_model_tanh = Sequential()\n",
    "\n",
    "simple_model_tanh.add(tf.keras.layers.Conv2D(filters=32, kernel_size=(5,5), padding='same', activation='tanh', input_shape=(28, 28, 3)))\n",
    "simple_model_tanh.add(tf.keras.layers.MaxPool2D(strides=2))\n",
    "simple_model_tanh.add(tf.keras.layers.BatchNormalization())\n",
    "simple_model_tanh.add(tf.keras.layers.Flatten())\n",
    "simple_model_tanh.add(tf.keras.layers.Dropout(0.2))\n",
    "simple_model_tanh.add(tf.keras.layers.Dense(10, activation='softmax'))\n",
    "\n",
    "simple_model_tanh.compile(loss=sparse_categorical_crossentropy, optimizer=tf.optimizers.Adam(), metrics=['accuracy'])\n",
    "simple_model_tanh.summary()"
   ]
  },
  {
   "cell_type": "code",
   "execution_count": null,
   "metadata": {
    "colab": {
     "base_uri": "https://localhost:8080/"
    },
    "id": "Nuv8C1Uwc86J",
    "outputId": "f1e20c4b-395f-46b7-e61a-5aa55805958e"
   },
   "outputs": [
    {
     "name": "stdout",
     "output_type": "stream",
     "text": [
      "Epoch 1/8\n",
      "1562/1562 [==============================] - 124s 76ms/step - loss: 1.7406 - accuracy: 0.4478 - val_loss: 1.2493 - val_accuracy: 0.5616\n",
      "Epoch 2/8\n",
      "1562/1562 [==============================] - 109s 67ms/step - loss: 1.2072 - accuracy: 0.5787 - val_loss: 1.1400 - val_accuracy: 0.6029\n",
      "Epoch 3/8\n",
      "1562/1562 [==============================] - 113s 70ms/step - loss: 1.1078 - accuracy: 0.6139 - val_loss: 1.0967 - val_accuracy: 0.6204\n",
      "Epoch 4/8\n",
      "1562/1562 [==============================] - 108s 67ms/step - loss: 1.0478 - accuracy: 0.6337 - val_loss: 1.0847 - val_accuracy: 0.6232\n",
      "Epoch 5/8\n",
      "1562/1562 [==============================] - 106s 66ms/step - loss: 1.0080 - accuracy: 0.6475 - val_loss: 1.0744 - val_accuracy: 0.6274\n",
      "Epoch 6/8\n",
      "1562/1562 [==============================] - 106s 66ms/step - loss: 0.9700 - accuracy: 0.6627 - val_loss: 1.0192 - val_accuracy: 0.6466\n",
      "Epoch 7/8\n",
      "1562/1562 [==============================] - 104s 64ms/step - loss: 0.9396 - accuracy: 0.6725 - val_loss: 1.0181 - val_accuracy: 0.6486\n",
      "Epoch 8/8\n",
      "1562/1562 [==============================] - 104s 64ms/step - loss: 0.9138 - accuracy: 0.6803 - val_loss: 1.0217 - val_accuracy: 0.6435\n"
     ]
    }
   ],
   "source": [
    "history_tanh = simple_model_tanh.fit(train_ds_28, epochs=8,verbose=1, validation_data=test_ds_28)"
   ]
  },
  {
   "cell_type": "code",
   "execution_count": null,
   "metadata": {
    "colab": {
     "base_uri": "https://localhost:8080/"
    },
    "id": "4yILU1RJcTaS",
    "outputId": "cd313cc1-e647-4c7d-ab66-33c2d07d88da"
   },
   "outputs": [
    {
     "name": "stdout",
     "output_type": "stream",
     "text": [
      "Model: \"sequential_21\"\n",
      "_________________________________________________________________\n",
      " Layer (type)                Output Shape              Param #   \n",
      "=================================================================\n",
      " conv2d_41 (Conv2D)          (None, 28, 28, 32)        2432      \n",
      "                                                                 \n",
      " max_pooling2d_41 (MaxPoolin  (None, 14, 14, 32)       0         \n",
      " g2D)                                                            \n",
      "                                                                 \n",
      " batch_normalization_41 (Bat  (None, 14, 14, 32)       128       \n",
      " chNormalization)                                                \n",
      "                                                                 \n",
      " flatten_21 (Flatten)        (None, 6272)              0         \n",
      "                                                                 \n",
      " dropout_37 (Dropout)        (None, 6272)              0         \n",
      "                                                                 \n",
      " dense_52 (Dense)            (None, 10)                62730     \n",
      "                                                                 \n",
      "=================================================================\n",
      "Total params: 65,290\n",
      "Trainable params: 65,226\n",
      "Non-trainable params: 64\n",
      "_________________________________________________________________\n"
     ]
    }
   ],
   "source": [
    "simple_model_sigmoid_end = Sequential()\n",
    "\n",
    "simple_model_sigmoid_end.add(tf.keras.layers.Conv2D(filters=32, kernel_size=(5,5), padding='same', activation='relu', input_shape=(28, 28, 3)))\n",
    "simple_model_sigmoid_end.add(tf.keras.layers.MaxPool2D(strides=2))\n",
    "simple_model_sigmoid_end.add(tf.keras.layers.BatchNormalization())\n",
    "simple_model_sigmoid_end.add(tf.keras.layers.Flatten())\n",
    "simple_model_sigmoid_end.add(tf.keras.layers.Dropout(0.2))\n",
    "simple_model_sigmoid_end.add(tf.keras.layers.Dense(10, activation='sigmoid'))\n",
    "\n",
    "simple_model_sigmoid_end.compile(loss=sparse_categorical_crossentropy, optimizer=tf.optimizers.Adam(), metrics=['accuracy'])\n",
    "simple_model_sigmoid_end.summary()"
   ]
  },
  {
   "cell_type": "code",
   "execution_count": null,
   "metadata": {
    "colab": {
     "base_uri": "https://localhost:8080/"
    },
    "id": "SwIl8fuUdA0A",
    "outputId": "5dcee724-fb06-4d49-819a-c1d23b70f4a1"
   },
   "outputs": [
    {
     "metadata": {
      "tags": null
     },
     "name": "stdout",
     "output_type": "stream",
     "text": [
      "Epoch 1/8\n",
      "1562/1562 [==============================] - 99s 61ms/step - loss: 1.6199 - accuracy: 0.4846 - val_loss: 1.2367 - val_accuracy: 0.5710\n",
      "Epoch 2/8\n",
      "1562/1562 [==============================] - 90s 55ms/step - loss: 1.1482 - accuracy: 0.6041 - val_loss: 1.1442 - val_accuracy: 0.6032\n",
      "Epoch 3/8\n",
      "1562/1562 [==============================] - 97s 60ms/step - loss: 1.0545 - accuracy: 0.6339 - val_loss: 1.1023 - val_accuracy: 0.6237\n",
      "Epoch 4/8\n",
      "1562/1562 [==============================] - 96s 59ms/step - loss: 1.0121 - accuracy: 0.6481 - val_loss: 1.0663 - val_accuracy: 0.6311\n",
      "Epoch 5/8\n",
      "1562/1562 [==============================] - 97s 60ms/step - loss: 0.9727 - accuracy: 0.6637 - val_loss: 1.0734 - val_accuracy: 0.6320\n",
      "Epoch 6/8\n",
      "1562/1562 [==============================] - 97s 60ms/step - loss: 0.9455 - accuracy: 0.6732 - val_loss: 1.0186 - val_accuracy: 0.6495\n",
      "Epoch 7/8\n",
      "1562/1562 [==============================] - 95s 59ms/step - loss: 0.9205 - accuracy: 0.6786 - val_loss: 1.0386 - val_accuracy: 0.6407\n",
      "Epoch 8/8\n",
      "1562/1562 [==============================] - 95s 59ms/step - loss: 0.8986 - accuracy: 0.6887 - val_loss: 1.0344 - val_accuracy: 0.6442\n"
     ]
    }
   ],
   "source": [
    "history_sigmoid_end = simple_model_sigmoid_end.fit(train_ds_28, epochs=8,verbose=1, validation_data=test_ds_28)"
   ]
  },
  {
   "cell_type": "code",
   "execution_count": null,
   "metadata": {
    "colab": {
     "base_uri": "https://localhost:8080/"
    },
    "id": "-Lk3YxakcbJk",
    "outputId": "7e65fc23-c206-486e-edb8-f3dc25775af4"
   },
   "outputs": [
    {
     "name": "stdout",
     "output_type": "stream",
     "text": [
      "Model: \"sequential_22\"\n",
      "_________________________________________________________________\n",
      " Layer (type)                Output Shape              Param #   \n",
      "=================================================================\n",
      " conv2d_42 (Conv2D)          (None, 28, 28, 32)        2432      \n",
      "                                                                 \n",
      " max_pooling2d_42 (MaxPoolin  (None, 14, 14, 32)       0         \n",
      " g2D)                                                            \n",
      "                                                                 \n",
      " batch_normalization_42 (Bat  (None, 14, 14, 32)       128       \n",
      " chNormalization)                                                \n",
      "                                                                 \n",
      " flatten_22 (Flatten)        (None, 6272)              0         \n",
      "                                                                 \n",
      " dropout_38 (Dropout)        (None, 6272)              0         \n",
      "                                                                 \n",
      " dense_53 (Dense)            (None, 10)                62730     \n",
      "                                                                 \n",
      "=================================================================\n",
      "Total params: 65,290\n",
      "Trainable params: 65,226\n",
      "Non-trainable params: 64\n",
      "_________________________________________________________________\n"
     ]
    }
   ],
   "source": [
    "simple_model_tanh_end = Sequential()\n",
    "\n",
    "simple_model_tanh_end.add(tf.keras.layers.Conv2D(filters=32, kernel_size=(5,5), padding='same', activation='relu', input_shape=(28, 28, 3)))\n",
    "simple_model_tanh_end.add(tf.keras.layers.MaxPool2D(strides=2))\n",
    "simple_model_tanh_end.add(tf.keras.layers.BatchNormalization())\n",
    "simple_model_tanh_end.add(tf.keras.layers.Flatten())\n",
    "simple_model_tanh_end.add(tf.keras.layers.Dropout(0.2))\n",
    "simple_model_tanh_end.add(tf.keras.layers.Dense(10, activation='tanh'))\n",
    "\n",
    "simple_model_tanh_end.compile(loss=sparse_categorical_crossentropy, optimizer=tf.optimizers.Adam(), metrics=['accuracy'])\n",
    "simple_model_tanh_end.summary()"
   ]
  },
  {
   "cell_type": "code",
   "execution_count": null,
   "metadata": {
    "colab": {
     "base_uri": "https://localhost:8080/"
    },
    "id": "Pzt51DvkdF71",
    "outputId": "d3ecef5b-f016-4d94-cac5-99141e8e73b0"
   },
   "outputs": [
    {
     "name": "stdout",
     "output_type": "stream",
     "text": [
      "Epoch 1/8\n",
      "1562/1562 [==============================] - 102s 62ms/step - loss: 4.2072 - accuracy: 0.1441 - val_loss: 3.5547 - val_accuracy: 0.1413\n",
      "Epoch 2/8\n",
      "1562/1562 [==============================] - 104s 64ms/step - loss: 3.8400 - accuracy: 0.1229 - val_loss: 4.0968 - val_accuracy: 0.1201\n",
      "Epoch 3/8\n",
      "1562/1562 [==============================] - 105s 65ms/step - loss: 3.5346 - accuracy: 0.1266 - val_loss: 3.4095 - val_accuracy: 0.1307\n",
      "Epoch 4/8\n",
      "1562/1562 [==============================] - 99s 61ms/step - loss: 3.5241 - accuracy: 0.1302 - val_loss: 3.5330 - val_accuracy: 0.1333\n",
      "Epoch 5/8\n",
      "1562/1562 [==============================] - 98s 61ms/step - loss: 3.2869 - accuracy: 0.1318 - val_loss: 3.1193 - val_accuracy: 0.1187\n",
      "Epoch 6/8\n",
      "1562/1562 [==============================] - 98s 61ms/step - loss: 3.3019 - accuracy: 0.1227 - val_loss: 3.2558 - val_accuracy: 0.1262\n",
      "Epoch 7/8\n",
      "1562/1562 [==============================] - 99s 61ms/step - loss: 3.1542 - accuracy: 0.1233 - val_loss: 3.2194 - val_accuracy: 0.1165\n",
      "Epoch 8/8\n",
      "1562/1562 [==============================] - 98s 60ms/step - loss: 2.9452 - accuracy: 0.1152 - val_loss: 2.6595 - val_accuracy: 0.1078\n"
     ]
    }
   ],
   "source": [
    "history_tanh_end = simple_model_tanh_end.fit(train_ds_28, epochs=8,verbose=1, validation_data=test_ds_28)"
   ]
  },
  {
   "cell_type": "code",
   "execution_count": null,
   "metadata": {
    "colab": {
     "base_uri": "https://localhost:8080/"
    },
    "id": "zBjiW4jiciq0",
    "outputId": "85a48f57-b7e5-4cc0-e246-138ad6cea4a0"
   },
   "outputs": [
    {
     "name": "stdout",
     "output_type": "stream",
     "text": [
      "Model: \"sequential_23\"\n",
      "_________________________________________________________________\n",
      " Layer (type)                Output Shape              Param #   \n",
      "=================================================================\n",
      " conv2d_43 (Conv2D)          (None, 28, 28, 32)        2432      \n",
      "                                                                 \n",
      " max_pooling2d_43 (MaxPoolin  (None, 14, 14, 32)       0         \n",
      " g2D)                                                            \n",
      "                                                                 \n",
      " batch_normalization_43 (Bat  (None, 14, 14, 32)       128       \n",
      " chNormalization)                                                \n",
      "                                                                 \n",
      " flatten_23 (Flatten)        (None, 6272)              0         \n",
      "                                                                 \n",
      " dropout_39 (Dropout)        (None, 6272)              0         \n",
      "                                                                 \n",
      " dense_54 (Dense)            (None, 10)                62730     \n",
      "                                                                 \n",
      "=================================================================\n",
      "Total params: 65,290\n",
      "Trainable params: 65,226\n",
      "Non-trainable params: 64\n",
      "_________________________________________________________________\n"
     ]
    }
   ],
   "source": [
    "simple_model_relu_end = Sequential()\n",
    "\n",
    "simple_model_relu_end.add(tf.keras.layers.Conv2D(filters=32, kernel_size=(5,5), padding='same', activation='relu', input_shape=(28, 28, 3)))\n",
    "simple_model_relu_end.add(tf.keras.layers.MaxPool2D(strides=2))\n",
    "simple_model_relu_end.add(tf.keras.layers.BatchNormalization())\n",
    "simple_model_relu_end.add(tf.keras.layers.Flatten())\n",
    "simple_model_relu_end.add(tf.keras.layers.Dropout(0.2))\n",
    "simple_model_relu_end.add(tf.keras.layers.Dense(10, activation='relu'))\n",
    "\n",
    "simple_model_relu_end.compile(loss=sparse_categorical_crossentropy, optimizer=tf.optimizers.Adam(), metrics=['accuracy'])\n",
    "simple_model_relu_end.summary()"
   ]
  },
  {
   "cell_type": "code",
   "execution_count": null,
   "metadata": {
    "colab": {
     "base_uri": "https://localhost:8080/"
    },
    "id": "zdRBZjqPdKVk",
    "outputId": "04361282-41e2-4ab3-a9d7-89ab8d6885dd"
   },
   "outputs": [
    {
     "name": "stdout",
     "output_type": "stream",
     "text": [
      "Epoch 1/8\n",
      "1562/1562 [==============================] - 91s 56ms/step - loss: 4.9571 - accuracy: 0.1630 - val_loss: 4.3424 - val_accuracy: 0.1592\n",
      "Epoch 2/8\n",
      "1562/1562 [==============================] - 105s 65ms/step - loss: 4.2008 - accuracy: 0.1257 - val_loss: 3.8680 - val_accuracy: 0.1136\n",
      "Epoch 3/8\n",
      "1562/1562 [==============================] - 105s 65ms/step - loss: 3.6100 - accuracy: 0.1122 - val_loss: 3.3112 - val_accuracy: 0.1078\n",
      "Epoch 4/8\n",
      "1562/1562 [==============================] - 94s 58ms/step - loss: 3.0162 - accuracy: 0.1132 - val_loss: 2.8322 - val_accuracy: 0.1110\n",
      "Epoch 5/8\n",
      "1562/1562 [==============================] - 94s 58ms/step - loss: 3.1178 - accuracy: 0.1111 - val_loss: 3.0510 - val_accuracy: 0.0976\n",
      "Epoch 6/8\n",
      "1562/1562 [==============================] - 103s 64ms/step - loss: 2.9512 - accuracy: 0.1081 - val_loss: 2.7538 - val_accuracy: 0.1059\n",
      "Epoch 7/8\n",
      "1562/1562 [==============================] - 103s 64ms/step - loss: 2.6864 - accuracy: 0.0966 - val_loss: 2.5649 - val_accuracy: 0.0940\n",
      "Epoch 8/8\n",
      "1562/1562 [==============================] - 105s 65ms/step - loss: 2.3790 - accuracy: 0.0990 - val_loss: 2.3092 - val_accuracy: 0.1000\n"
     ]
    }
   ],
   "source": [
    "history_reku_end = simple_model_relu_end.fit(train_ds_28, epochs=8,verbose=1, validation_data=test_ds_28)"
   ]
  },
  {
   "cell_type": "markdown",
   "metadata": {
    "id": "hiWv4eC0wtBZ"
   },
   "source": [
    "Plotting the Model accuracy of different activation function in the convolutional layer."
   ]
  },
  {
   "cell_type": "code",
   "execution_count": null,
   "metadata": {
    "colab": {
     "base_uri": "https://localhost:8080/",
     "height": 295
    },
    "id": "owPnqksrzJmQ",
    "outputId": "f1f1b61d-24a9-49c4-84b7-2bd009b8b2de"
   },
   "outputs": [
    {
     "data": {
      "image/png": "[encoded data removed]",
      "text/plain": [
       "<Figure size 432x288 with 1 Axes>"
      ]
     },
     "metadata": {
      "needs_background": "light"
     },
     "output_type": "display_data"
    }
   ],
   "source": [
    "plt.plot(history_simple_softmax.history['val_accuracy'])\n",
    "plt.plot(history_relu.history['val_accuracy'])\n",
    "plt.plot(history_sigmoid.history['val_accuracy'])\n",
    "plt.plot(history_tanh.history['val_accuracy'])\n",
    "plt.title('Model Accuracy of different activation functions on Convolutional Layer')\n",
    "plt.ylabel('accuracy')\n",
    "plt.xlabel('epoch')\n",
    "plt.legend(['SoftMax','ReLu', 'Sigmoid', 'Tanh'], loc='upper left')\n",
    "plt.savefig('ActivationConv')\n",
    "plt.show()"
   ]
  },
  {
   "cell_type": "markdown",
   "metadata": {
    "id": "mW6Xx_faw_up"
   },
   "source": [
    "Plotting the Model accuracy of different activation function in the output layer."
   ]
  },
  {
   "cell_type": "code",
   "execution_count": null,
   "metadata": {
    "colab": {
     "base_uri": "https://localhost:8080/",
     "height": 295
    },
    "id": "lRma0M5Nz0Rq",
    "outputId": "9275c817-bdea-4abb-b952-0e5afb425e00"
   },
   "outputs": [
    {
     "data": {
      "image/png": "[encoded data removed]",
      "text/plain": [
       "<Figure size 432x288 with 1 Axes>"
      ]
     },
     "metadata": {
      "needs_background": "light"
     },
     "output_type": "display_data"
    }
   ],
   "source": [
    "plt.plot(history_simple.history['val_accuracy'])\n",
    "plt.plot(history_reku_end.history['val_accuracy'])\n",
    "plt.plot(history_sigmoid_end.history['val_accuracy'])\n",
    "plt.plot(history_tanh_end.history['val_accuracy'])\n",
    "plt.title('Model Accuracy Dense Activation Function')\n",
    "plt.ylabel('accuracy')\n",
    "plt.xlabel('epoch')\n",
    "plt.legend(['Softmax','ReLu', 'Sigmoid', 'Tanh'], loc='upper left')\n",
    "plt.savefig('ActivationDense')\n",
    "plt.show()"
   ]
  },
  {
   "cell_type": "markdown",
   "metadata": {
    "id": "jlTxPluPxDsL"
   },
   "source": [
    "In this stage we conduct the final evaluation of all the models. The use of callbacks is done in order to avoid overfitting but also to change the learning rate if needed to make the model learn better and increase accuracy."
   ]
  },
  {
   "cell_type": "code",
   "execution_count": null,
   "metadata": {
    "colab": {
     "base_uri": "https://localhost:8080/"
    },
    "id": "rrYoDRGfgvNZ",
    "outputId": "03a170cb-f0a3-4b40-9756-b09ae26f93ed"
   },
   "outputs": [
    {
     "name": "stdout",
     "output_type": "stream",
     "text": [
      "Epoch 1/25\n",
      "1562/1562 [==============================] - 170s 105ms/step - loss: 1.5004 - accuracy: 0.4692 - val_loss: 1.1178 - val_accuracy: 0.6053 - lr: 0.0010\n",
      "Epoch 2/25\n",
      "1562/1562 [==============================] - 189s 119ms/step - loss: 1.1300 - accuracy: 0.6074 - val_loss: 0.9947 - val_accuracy: 0.6545 - lr: 0.0010\n",
      "Epoch 3/25\n",
      "1562/1562 [==============================] - 177s 111ms/step - loss: 0.9691 - accuracy: 0.6650 - val_loss: 0.9009 - val_accuracy: 0.6860 - lr: 0.0010\n",
      "Epoch 4/25\n",
      "1562/1562 [==============================] - 182s 115ms/step - loss: 0.8573 - accuracy: 0.7029 - val_loss: 0.8836 - val_accuracy: 0.6909 - lr: 0.0010\n",
      "Epoch 5/25\n",
      "1562/1562 [==============================] - 193s 122ms/step - loss: 0.7668 - accuracy: 0.7342 - val_loss: 0.8132 - val_accuracy: 0.7226 - lr: 0.0010\n",
      "Epoch 6/25\n",
      "1562/1562 [==============================] - 194s 122ms/step - loss: 0.6958 - accuracy: 0.7561 - val_loss: 0.8092 - val_accuracy: 0.7241 - lr: 0.0010\n",
      "Epoch 7/25\n",
      "1562/1562 [==============================] - 188s 119ms/step - loss: 0.6255 - accuracy: 0.7828 - val_loss: 0.7882 - val_accuracy: 0.7296 - lr: 0.0010\n",
      "Epoch 8/25\n",
      "1562/1562 [==============================] - 193s 122ms/step - loss: 0.5708 - accuracy: 0.8016 - val_loss: 0.7870 - val_accuracy: 0.7405 - lr: 0.0010\n",
      "Epoch 9/25\n",
      "1562/1562 [==============================] - 194s 122ms/step - loss: 0.5245 - accuracy: 0.8161 - val_loss: 0.7939 - val_accuracy: 0.7398 - lr: 0.0010\n",
      "Epoch 10/25\n",
      "1562/1562 [==============================] - 195s 123ms/step - loss: 0.4839 - accuracy: 0.8310 - val_loss: 0.7988 - val_accuracy: 0.7496 - lr: 0.0010\n",
      "Epoch 11/25\n",
      "1562/1562 [==============================] - 196s 124ms/step - loss: 0.4506 - accuracy: 0.8441 - val_loss: 0.8010 - val_accuracy: 0.7533 - lr: 0.0010\n",
      "Epoch 12/25\n",
      "1562/1562 [==============================] - 193s 122ms/step - loss: 0.4129 - accuracy: 0.8558 - val_loss: 0.8078 - val_accuracy: 0.7580 - lr: 0.0010\n",
      "Epoch 13/25\n",
      "1562/1562 [==============================] - ETA: 0s - loss: 0.3866 - accuracy: 0.8651Restoring model weights from the end of the best epoch: 8.\n",
      "1562/1562 [==============================] - 198s 125ms/step - loss: 0.3866 - accuracy: 0.8651 - val_loss: 0.8201 - val_accuracy: 0.7523 - lr: 0.0010\n",
      "Epoch 13: early stopping\n"
     ]
    }
   ],
   "source": [
    "# 28x28x3 input\n",
    "\n",
    "history_25_28 = baseline_model.fit(train_ds_28, epochs=25,verbose=1,\n",
    "                    validation_data=test_ds_28, callbacks=[reduce_lr, early_stop])"
   ]
  },
  {
   "cell_type": "code",
   "execution_count": null,
   "metadata": {
    "colab": {
     "base_uri": "https://localhost:8080/"
    },
    "id": "ejqgRxfhg4vp",
    "outputId": "02081e9f-e73e-4486-ab52-22af8bf17344"
   },
   "outputs": [
    {
     "name": "stdout",
     "output_type": "stream",
     "text": [
      "Epoch 1/25\n",
      "1562/1562 [==============================] - 244s 154ms/step - loss: 1.4647 - accuracy: 0.4823 - val_loss: 1.0857 - val_accuracy: 0.6179 - lr: 0.0010\n",
      "Epoch 2/25\n",
      "1562/1562 [==============================] - 283s 179ms/step - loss: 1.0657 - accuracy: 0.6292 - val_loss: 0.9250 - val_accuracy: 0.6738 - lr: 0.0010\n",
      "Epoch 3/25\n",
      "1562/1562 [==============================] - 271s 172ms/step - loss: 0.8950 - accuracy: 0.6913 - val_loss: 0.8499 - val_accuracy: 0.7064 - lr: 0.0010\n",
      "Epoch 4/25\n",
      "1562/1562 [==============================] - 268s 170ms/step - loss: 0.7811 - accuracy: 0.7311 - val_loss: 0.8021 - val_accuracy: 0.7308 - lr: 0.0010\n",
      "Epoch 5/25\n",
      "1562/1562 [==============================] - 265s 168ms/step - loss: 0.6999 - accuracy: 0.7583 - val_loss: 0.7641 - val_accuracy: 0.7372 - lr: 0.0010\n",
      "Epoch 6/25\n",
      "1562/1562 [==============================] - 264s 167ms/step - loss: 0.6174 - accuracy: 0.7887 - val_loss: 0.7947 - val_accuracy: 0.7336 - lr: 0.0010\n",
      "Epoch 7/25\n",
      "1562/1562 [==============================] - 261s 166ms/step - loss: 0.5559 - accuracy: 0.8081 - val_loss: 0.7415 - val_accuracy: 0.7559 - lr: 0.0010\n",
      "Epoch 8/25\n",
      "1562/1562 [==============================] - 274s 174ms/step - loss: 0.4997 - accuracy: 0.8259 - val_loss: 0.7573 - val_accuracy: 0.7532 - lr: 0.0010\n",
      "Epoch 9/25\n",
      "1562/1562 [==============================] - 280s 177ms/step - loss: 0.4567 - accuracy: 0.8420 - val_loss: 0.7671 - val_accuracy: 0.7608 - lr: 0.0010\n",
      "Epoch 10/25\n",
      "1562/1562 [==============================] - 270s 171ms/step - loss: 0.4126 - accuracy: 0.8595 - val_loss: 0.7680 - val_accuracy: 0.7573 - lr: 0.0010\n",
      "Epoch 11/25\n",
      "1562/1562 [==============================] - 257s 163ms/step - loss: 0.3818 - accuracy: 0.8681 - val_loss: 0.7776 - val_accuracy: 0.7653 - lr: 0.0010\n",
      "Epoch 12/25\n",
      "1562/1562 [==============================] - ETA: 0s - loss: 0.3487 - accuracy: 0.8794Restoring model weights from the end of the best epoch: 7.\n",
      "1562/1562 [==============================] - 261s 166ms/step - loss: 0.3487 - accuracy: 0.8794 - val_loss: 0.7957 - val_accuracy: 0.7607 - lr: 0.0010\n",
      "Epoch 12: early stopping\n"
     ]
    }
   ],
   "source": [
    "# 32x32x3 input\n",
    "\n",
    "history_25_32 = model_v1.fit(train_ds, epochs=25,verbose=1,\n",
    "                    validation_data=test_ds, callbacks=[reduce_lr, early_stop])"
   ]
  },
  {
   "cell_type": "code",
   "execution_count": null,
   "metadata": {
    "colab": {
     "base_uri": "https://localhost:8080/"
    },
    "id": "uDM04Fp7hHSF",
    "outputId": "87b46100-67a8-48c9-d446-02bd449242cd"
   },
   "outputs": [
    {
     "name": "stdout",
     "output_type": "stream",
     "text": [
      "Epoch 1/25\n",
      "1562/1562 [==============================] - 234s 109ms/step - loss: 1.6068 - accuracy: 0.4898 - val_loss: 1.2260 - val_accuracy: 0.5778 - lr: 0.0010\n",
      "Epoch 2/25\n",
      "1562/1562 [==============================] - 52s 32ms/step - loss: 1.1520 - accuracy: 0.6016 - val_loss: 1.1210 - val_accuracy: 0.6135 - lr: 0.0010\n",
      "Epoch 3/25\n",
      "1562/1562 [==============================] - 52s 32ms/step - loss: 1.0687 - accuracy: 0.6270 - val_loss: 1.0713 - val_accuracy: 0.6300 - lr: 0.0010\n",
      "Epoch 4/25\n",
      "1562/1562 [==============================] - 52s 31ms/step - loss: 1.0219 - accuracy: 0.6448 - val_loss: 1.0771 - val_accuracy: 0.6284 - lr: 0.0010\n",
      "Epoch 5/25\n",
      "1562/1562 [==============================] - 52s 31ms/step - loss: 0.9864 - accuracy: 0.6577 - val_loss: 1.0790 - val_accuracy: 0.6228 - lr: 0.0010\n",
      "Epoch 6/25\n",
      "1562/1562 [==============================] - 52s 31ms/step - loss: 0.9532 - accuracy: 0.6702 - val_loss: 1.0230 - val_accuracy: 0.6454 - lr: 0.0010\n",
      "Epoch 7/25\n",
      "1562/1562 [==============================] - 52s 32ms/step - loss: 0.9266 - accuracy: 0.6797 - val_loss: 1.0256 - val_accuracy: 0.6472 - lr: 0.0010\n",
      "Epoch 8/25\n",
      "1562/1562 [==============================] - 52s 31ms/step - loss: 0.9052 - accuracy: 0.6871 - val_loss: 1.0267 - val_accuracy: 0.6457 - lr: 0.0010\n",
      "Epoch 9/25\n",
      "1562/1562 [==============================] - 52s 31ms/step - loss: 0.8866 - accuracy: 0.6934 - val_loss: 1.0375 - val_accuracy: 0.6444 - lr: 0.0010\n",
      "Epoch 10/25\n",
      "1562/1562 [==============================] - 68s 42ms/step - loss: 0.8694 - accuracy: 0.6982 - val_loss: 1.0136 - val_accuracy: 0.6560 - lr: 0.0010\n",
      "Epoch 11/25\n",
      "1562/1562 [==============================] - 52s 31ms/step - loss: 0.8559 - accuracy: 0.7050 - val_loss: 0.9938 - val_accuracy: 0.6625 - lr: 0.0010\n",
      "Epoch 12/25\n",
      "1562/1562 [==============================] - 54s 33ms/step - loss: 0.8389 - accuracy: 0.7086 - val_loss: 1.0024 - val_accuracy: 0.6591 - lr: 0.0010\n",
      "Epoch 13/25\n",
      "1562/1562 [==============================] - 52s 32ms/step - loss: 0.8312 - accuracy: 0.7107 - val_loss: 0.9963 - val_accuracy: 0.6643 - lr: 0.0010\n",
      "Epoch 14/25\n",
      "1562/1562 [==============================] - 52s 32ms/step - loss: 0.8173 - accuracy: 0.7168 - val_loss: 1.0343 - val_accuracy: 0.6475 - lr: 0.0010\n",
      "Epoch 15/25\n",
      "1562/1562 [==============================] - 52s 32ms/step - loss: 0.8068 - accuracy: 0.7171 - val_loss: 0.9912 - val_accuracy: 0.6607 - lr: 0.0010\n",
      "Epoch 16/25\n",
      "1561/1562 [============================>.] - ETA: 0s - loss: 0.8018 - accuracy: 0.7205\n",
      "Epoch 16: ReduceLROnPlateau reducing learning rate to 0.00020000000949949026.\n",
      "1562/1562 [==============================] - 52s 32ms/step - loss: 0.8017 - accuracy: 0.7205 - val_loss: 1.0190 - val_accuracy: 0.6566 - lr: 0.0010\n",
      "Epoch 17/25\n",
      "1562/1562 [==============================] - 52s 32ms/step - loss: 0.7111 - accuracy: 0.7548 - val_loss: 0.9723 - val_accuracy: 0.6753 - lr: 2.0000e-04\n",
      "Epoch 18/25\n",
      "1562/1562 [==============================] - 52s 32ms/step - loss: 0.6986 - accuracy: 0.7592 - val_loss: 0.9718 - val_accuracy: 0.6761 - lr: 2.0000e-04\n",
      "Epoch 19/25\n",
      "1562/1562 [==============================] - 53s 32ms/step - loss: 0.6880 - accuracy: 0.7632 - val_loss: 0.9764 - val_accuracy: 0.6722 - lr: 2.0000e-04\n",
      "Epoch 20/25\n",
      "1562/1562 [==============================] - 52s 32ms/step - loss: 0.6877 - accuracy: 0.7614 - val_loss: 0.9772 - val_accuracy: 0.6722 - lr: 2.0000e-04\n",
      "Epoch 21/25\n",
      "1561/1562 [============================>.] - ETA: 0s - loss: 0.6839 - accuracy: 0.7609\n",
      "Epoch 21: ReduceLROnPlateau reducing learning rate to 4.0000001899898055e-05.\n",
      "1562/1562 [==============================] - 52s 32ms/step - loss: 0.6841 - accuracy: 0.7608 - val_loss: 0.9768 - val_accuracy: 0.6753 - lr: 2.0000e-04\n",
      "Epoch 22/25\n",
      "1562/1562 [==============================] - 52s 32ms/step - loss: 0.6625 - accuracy: 0.7713 - val_loss: 0.9740 - val_accuracy: 0.6776 - lr: 4.0000e-05\n",
      "Epoch 23/25\n",
      "1562/1562 [==============================] - ETA: 0s - loss: 0.6616 - accuracy: 0.7719Restoring model weights from the end of the best epoch: 18.\n",
      "1562/1562 [==============================] - 52s 32ms/step - loss: 0.6616 - accuracy: 0.7719 - val_loss: 0.9745 - val_accuracy: 0.6774 - lr: 4.0000e-05\n",
      "Epoch 23: early stopping\n"
     ]
    }
   ],
   "source": [
    "# simple model\n",
    "\n",
    "history_simple_25 = simple_model.fit(train_ds_28, epochs=25,verbose=1, validation_data=test_ds_28, callbacks=[reduce_lr, early_stop])"
   ]
  },
  {
   "cell_type": "markdown",
   "metadata": {
    "id": "_UfaCV1P0BOk"
   },
   "source": [
    "Plotting the accuracy of the test data while learning was conducted"
   ]
  },
  {
   "cell_type": "code",
   "execution_count": null,
   "metadata": {
    "colab": {
     "base_uri": "https://localhost:8080/",
     "height": 295
    },
    "id": "-ERrr2qOO4wN",
    "outputId": "42f31911-fc59-49b5-880c-96fd8a7b8110"
   },
   "outputs": [
    {
     "data": {
      "image/png": "[encoded data removed]",
      "text/plain": [
       "<Figure size 432x288 with 1 Axes>"
      ]
     },
     "metadata": {
      "needs_background": "light"
     },
     "output_type": "display_data"
    }
   ],
   "source": [
    "plt.plot(history_25_28.history['val_accuracy'])\n",
    "plt.plot(history_25_32.history['val_accuracy'])\n",
    "plt.plot(history_simple_25.history['val_accuracy'])\n",
    "plt.title('Model Accuracy of different models')\n",
    "plt.ylabel('accuracy')\n",
    "plt.xlabel('epoch')\n",
    "plt.legend(['28x28','32x32', 'Simplified'], loc='upper left')\n",
    "plt.savefig('FinalEvaluation')\n",
    "plt.show()"
   ]
  },
  {
   "cell_type": "markdown",
   "metadata": {
    "id": "uOWsppQ60Gj8"
   },
   "source": [
    "Plotting the loss of the test data while learning was conducted"
   ]
  },
  {
   "cell_type": "code",
   "execution_count": null,
   "metadata": {
    "colab": {
     "base_uri": "https://localhost:8080/",
     "height": 295
    },
    "id": "Ofb6RE0ebycx",
    "outputId": "5affb5ea-e9f5-4e23-b043-aaf2f3b04f46"
   },
   "outputs": [
    {
     "data": {
      "image/png": "[encoded data removed]",
      "text/plain": [
       "<Figure size 432x288 with 1 Axes>"
      ]
     },
     "metadata": {
      "needs_background": "light"
     },
     "output_type": "display_data"
    }
   ],
   "source": [
    "plt.plot(history_25_28.history['val_loss'])\n",
    "plt.plot(history_25_32.history['val_loss'])\n",
    "plt.plot(history_simple_25.history['val_loss'])\n",
    "plt.title('Model val_loss of different models')\n",
    "plt.ylabel('loss')\n",
    "plt.xlabel('epoch')\n",
    "plt.legend(['28x28','32x32', 'Simplified'], loc='upper left')\n",
    "plt.savefig('FinalEvaluationLoss')\n",
    "plt.show()"
   ]
  },
  {
   "cell_type": "markdown",
   "metadata": {
    "id": "gwvP533U0JDo"
   },
   "source": [
    "In this step we evaluate the models without using EarlyStop to see how the loss function changes but also how their accuracy increases when running the whole of the 25 epochs.\n",
    "\n",
    "Also, we are using a callback to change the learning parameter when a plateau is detected."
   ]
  },
  {
   "cell_type": "code",
   "execution_count": null,
   "metadata": {
    "colab": {
     "base_uri": "https://localhost:8080/"
    },
    "id": "m0Y22lY-aI4s",
    "outputId": "49e955a4-baae-410e-996d-32ff22a08a47"
   },
   "outputs": [
    {
     "name": "stdout",
     "output_type": "stream",
     "text": [
      "Epoch 1/25\n",
      "1562/1562 [==============================] - 215s 135ms/step - loss: 1.4814 - accuracy: 0.4763 - val_loss: 1.1306 - val_accuracy: 0.5917 - lr: 0.0010\n",
      "Epoch 2/25\n",
      "1562/1562 [==============================] - 228s 144ms/step - loss: 1.0964 - accuracy: 0.6186 - val_loss: 0.9862 - val_accuracy: 0.6592 - lr: 0.0010\n",
      "Epoch 3/25\n",
      "1562/1562 [==============================] - 203s 128ms/step - loss: 0.9436 - accuracy: 0.6739 - val_loss: 0.8711 - val_accuracy: 0.6963 - lr: 0.0010\n",
      "Epoch 4/25\n",
      "1562/1562 [==============================] - 208s 131ms/step - loss: 0.8350 - accuracy: 0.7106 - val_loss: 0.7991 - val_accuracy: 0.7225 - lr: 0.0010\n",
      "Epoch 5/25\n",
      "1562/1562 [==============================] - 224s 142ms/step - loss: 0.7565 - accuracy: 0.7397 - val_loss: 0.8200 - val_accuracy: 0.7175 - lr: 0.0010\n",
      "Epoch 6/25\n",
      "1562/1562 [==============================] - 204s 129ms/step - loss: 0.6816 - accuracy: 0.7640 - val_loss: 0.8013 - val_accuracy: 0.7258 - lr: 0.0010\n",
      "Epoch 7/25\n",
      "1562/1562 [==============================] - 228s 144ms/step - loss: 0.6164 - accuracy: 0.7885 - val_loss: 0.7595 - val_accuracy: 0.7401 - lr: 0.0010\n",
      "Epoch 8/25\n",
      "1562/1562 [==============================] - 227s 143ms/step - loss: 0.5630 - accuracy: 0.8058 - val_loss: 0.7498 - val_accuracy: 0.7445 - lr: 0.0010\n",
      "Epoch 9/25\n",
      "1562/1562 [==============================] - 219s 139ms/step - loss: 0.5175 - accuracy: 0.8210 - val_loss: 0.7813 - val_accuracy: 0.7460 - lr: 0.0010\n",
      "Epoch 10/25\n",
      "1562/1562 [==============================] - 234s 148ms/step - loss: 0.4759 - accuracy: 0.8349 - val_loss: 0.7868 - val_accuracy: 0.7448 - lr: 0.0010\n",
      "Epoch 11/25\n",
      "1562/1562 [==============================] - 242s 153ms/step - loss: 0.4463 - accuracy: 0.8443 - val_loss: 0.7615 - val_accuracy: 0.7534 - lr: 0.0010\n",
      "Epoch 12/25\n",
      "1562/1562 [==============================] - 251s 159ms/step - loss: 0.4096 - accuracy: 0.8587 - val_loss: 0.7755 - val_accuracy: 0.7545 - lr: 0.0010\n",
      "Epoch 13/25\n",
      "1562/1562 [==============================] - 209s 132ms/step - loss: 0.3852 - accuracy: 0.8672 - val_loss: 0.8208 - val_accuracy: 0.7522 - lr: 0.0010\n",
      "Epoch 14/25\n",
      "1562/1562 [==============================] - 273s 173ms/step - loss: 0.3613 - accuracy: 0.8754 - val_loss: 0.8208 - val_accuracy: 0.7493 - lr: 0.0010\n",
      "Epoch 15/25\n",
      "1562/1562 [==============================] - ETA: 0s - loss: 0.3373 - accuracy: 0.8828\n",
      "Epoch 15: ReduceLROnPlateau reducing learning rate to 0.00020000000949949026.\n",
      "1562/1562 [==============================] - 276s 175ms/step - loss: 0.3373 - accuracy: 0.8828 - val_loss: 0.8208 - val_accuracy: 0.7537 - lr: 0.0010\n",
      "Epoch 16/25\n",
      "1562/1562 [==============================] - 284s 180ms/step - loss: 0.2364 - accuracy: 0.9170 - val_loss: 0.8288 - val_accuracy: 0.7706 - lr: 2.0000e-04\n",
      "Epoch 17/25\n",
      "1562/1562 [==============================] - 287s 182ms/step - loss: 0.1994 - accuracy: 0.9303 - val_loss: 0.8624 - val_accuracy: 0.7736 - lr: 2.0000e-04\n",
      "Epoch 18/25\n",
      "1562/1562 [==============================] - 308s 195ms/step - loss: 0.1855 - accuracy: 0.9355 - val_loss: 0.8686 - val_accuracy: 0.7718 - lr: 2.0000e-04\n",
      "Epoch 19/25\n",
      "1562/1562 [==============================] - 297s 188ms/step - loss: 0.1711 - accuracy: 0.9392 - val_loss: 0.8967 - val_accuracy: 0.7712 - lr: 2.0000e-04\n",
      "Epoch 20/25\n",
      "1562/1562 [==============================] - ETA: 0s - loss: 0.1630 - accuracy: 0.9430\n",
      "Epoch 20: ReduceLROnPlateau reducing learning rate to 4.0000001899898055e-05.\n",
      "1562/1562 [==============================] - 307s 195ms/step - loss: 0.1630 - accuracy: 0.9430 - val_loss: 0.9208 - val_accuracy: 0.7731 - lr: 2.0000e-04\n",
      "Epoch 21/25\n",
      "1562/1562 [==============================] - 313s 198ms/step - loss: 0.1483 - accuracy: 0.9491 - val_loss: 0.9107 - val_accuracy: 0.7771 - lr: 4.0000e-05\n",
      "Epoch 22/25\n",
      "1562/1562 [==============================] - 295s 187ms/step - loss: 0.1423 - accuracy: 0.9511 - val_loss: 0.9129 - val_accuracy: 0.7754 - lr: 4.0000e-05\n",
      "Epoch 23/25\n",
      "1562/1562 [==============================] - 317s 201ms/step - loss: 0.1391 - accuracy: 0.9517 - val_loss: 0.9164 - val_accuracy: 0.7745 - lr: 4.0000e-05\n",
      "Epoch 24/25\n",
      "1562/1562 [==============================] - ETA: 0s - loss: 0.1305 - accuracy: 0.9554\n",
      "Epoch 24: ReduceLROnPlateau reducing learning rate to 8.000000525498762e-06.\n",
      "1562/1562 [==============================] - 290s 184ms/step - loss: 0.1305 - accuracy: 0.9554 - val_loss: 0.9315 - val_accuracy: 0.7730 - lr: 4.0000e-05\n",
      "Epoch 25/25\n",
      "1562/1562 [==============================] - 296s 188ms/step - loss: 0.1335 - accuracy: 0.9540 - val_loss: 0.9300 - val_accuracy: 0.7744 - lr: 8.0000e-06\n"
     ]
    }
   ],
   "source": [
    "history_25_28_1 = baseline_model.fit(train_ds_28, epochs=25,verbose=1,\n",
    "                    validation_data=test_ds_28, callbacks=[reduce_lr])"
   ]
  },
  {
   "cell_type": "code",
   "execution_count": null,
   "metadata": {
    "colab": {
     "base_uri": "https://localhost:8080/"
    },
    "id": "wvhkMx0naV9w",
    "outputId": "9b79bc66-96a2-4156-fb0b-8607893849a6"
   },
   "outputs": [
    {
     "name": "stdout",
     "output_type": "stream",
     "text": [
      "Epoch 1/25\n",
      "1562/1562 [==============================] - 293s 185ms/step - loss: 1.4879 - accuracy: 0.4763 - val_loss: 1.1219 - val_accuracy: 0.6056 - lr: 0.0010\n",
      "Epoch 2/25\n",
      "1562/1562 [==============================] - 282s 179ms/step - loss: 1.0661 - accuracy: 0.6304 - val_loss: 0.9164 - val_accuracy: 0.6809 - lr: 0.0010\n",
      "Epoch 3/25\n",
      "1562/1562 [==============================] - 284s 180ms/step - loss: 0.8999 - accuracy: 0.6894 - val_loss: 0.8253 - val_accuracy: 0.7163 - lr: 0.0010\n",
      "Epoch 4/25\n",
      "1562/1562 [==============================] - 305s 193ms/step - loss: 0.7793 - accuracy: 0.7313 - val_loss: 0.7860 - val_accuracy: 0.7309 - lr: 0.0010\n",
      "Epoch 5/25\n",
      "1562/1562 [==============================] - 312s 198ms/step - loss: 0.6914 - accuracy: 0.7649 - val_loss: 0.7904 - val_accuracy: 0.7327 - lr: 0.0010\n",
      "Epoch 6/25\n",
      "1562/1562 [==============================] - 311s 198ms/step - loss: 0.6140 - accuracy: 0.7862 - val_loss: 0.7690 - val_accuracy: 0.7405 - lr: 0.0010\n",
      "Epoch 7/25\n",
      "1562/1562 [==============================] - 302s 192ms/step - loss: 0.5472 - accuracy: 0.8096 - val_loss: 0.7736 - val_accuracy: 0.7433 - lr: 0.0010\n",
      "Epoch 8/25\n",
      "1562/1562 [==============================] - 294s 187ms/step - loss: 0.4897 - accuracy: 0.8308 - val_loss: 0.7354 - val_accuracy: 0.7598 - lr: 0.0010\n",
      "Epoch 9/25\n",
      "1562/1562 [==============================] - 310s 197ms/step - loss: 0.4462 - accuracy: 0.8464 - val_loss: 0.7471 - val_accuracy: 0.7596 - lr: 0.0010\n",
      "Epoch 10/25\n",
      "1562/1562 [==============================] - 314s 199ms/step - loss: 0.4047 - accuracy: 0.8608 - val_loss: 0.7457 - val_accuracy: 0.7643 - lr: 0.0010\n",
      "Epoch 11/25\n",
      "1562/1562 [==============================] - 324s 206ms/step - loss: 0.3659 - accuracy: 0.8724 - val_loss: 0.7959 - val_accuracy: 0.7657 - lr: 0.0010\n",
      "Epoch 12/25\n",
      "1562/1562 [==============================] - 297s 189ms/step - loss: 0.3462 - accuracy: 0.8813 - val_loss: 0.7981 - val_accuracy: 0.7650 - lr: 0.0010\n",
      "Epoch 13/25\n",
      "1562/1562 [==============================] - 327s 207ms/step - loss: 0.3169 - accuracy: 0.8928 - val_loss: 0.8267 - val_accuracy: 0.7649 - lr: 0.0010\n",
      "Epoch 14/25\n",
      "1562/1562 [==============================] - 315s 200ms/step - loss: 0.2969 - accuracy: 0.8983 - val_loss: 0.8298 - val_accuracy: 0.7661 - lr: 0.0010\n",
      "Epoch 15/25\n",
      "1562/1562 [==============================] - 299s 190ms/step - loss: 0.2748 - accuracy: 0.9073 - val_loss: 0.8594 - val_accuracy: 0.7628 - lr: 0.0010\n",
      "Epoch 16/25\n",
      "1562/1562 [==============================] - 297s 188ms/step - loss: 0.2619 - accuracy: 0.9117 - val_loss: 0.8652 - val_accuracy: 0.7621 - lr: 0.0010\n",
      "Epoch 17/25\n",
      "1562/1562 [==============================] - ETA: 0s - loss: 0.2436 - accuracy: 0.9173\n",
      "Epoch 17: ReduceLROnPlateau reducing learning rate to 0.00020000000949949026.\n",
      "1562/1562 [==============================] - 300s 190ms/step - loss: 0.2436 - accuracy: 0.9173 - val_loss: 0.8763 - val_accuracy: 0.7620 - lr: 0.0010\n",
      "Epoch 18/25\n",
      "1562/1562 [==============================] - 302s 192ms/step - loss: 0.1681 - accuracy: 0.9429 - val_loss: 0.8663 - val_accuracy: 0.7840 - lr: 2.0000e-04\n",
      "Epoch 19/25\n",
      "1562/1562 [==============================] - 302s 192ms/step - loss: 0.1347 - accuracy: 0.9545 - val_loss: 0.8985 - val_accuracy: 0.7841 - lr: 2.0000e-04\n",
      "Epoch 20/25\n",
      "1562/1562 [==============================] - 302s 192ms/step - loss: 0.1219 - accuracy: 0.9597 - val_loss: 0.9279 - val_accuracy: 0.7836 - lr: 2.0000e-04\n",
      "Epoch 21/25\n",
      "1562/1562 [==============================] - 298s 189ms/step - loss: 0.1107 - accuracy: 0.9623 - val_loss: 0.9420 - val_accuracy: 0.7867 - lr: 2.0000e-04\n",
      "Epoch 22/25\n",
      "1562/1562 [==============================] - 304s 193ms/step - loss: 0.1069 - accuracy: 0.9637 - val_loss: 0.9570 - val_accuracy: 0.7838 - lr: 2.0000e-04\n",
      "Epoch 23/25\n",
      "1562/1562 [==============================] - 309s 196ms/step - loss: 0.1018 - accuracy: 0.9662 - val_loss: 0.9674 - val_accuracy: 0.7851 - lr: 2.0000e-04\n",
      "Epoch 24/25\n",
      "1562/1562 [==============================] - ETA: 0s - loss: 0.0961 - accuracy: 0.9686\n",
      "Epoch 24: ReduceLROnPlateau reducing learning rate to 4.0000001899898055e-05.\n",
      "1562/1562 [==============================] - 303s 193ms/step - loss: 0.0961 - accuracy: 0.9686 - val_loss: 0.9829 - val_accuracy: 0.7852 - lr: 2.0000e-04\n",
      "Epoch 25/25\n",
      "1562/1562 [==============================] - 300s 190ms/step - loss: 0.0838 - accuracy: 0.9722 - val_loss: 0.9847 - val_accuracy: 0.7874 - lr: 4.0000e-05\n"
     ]
    }
   ],
   "source": [
    "history_25_32_1 = model_v1.fit(train_ds, epochs=25,verbose=1,\n",
    "                    validation_data=test_ds, callbacks=[reduce_lr])"
   ]
  },
  {
   "cell_type": "code",
   "execution_count": null,
   "metadata": {
    "colab": {
     "base_uri": "https://localhost:8080/"
    },
    "id": "Rn0llI9MaZ5e",
    "outputId": "67742bd3-75ce-4ba9-9c37-e349eb4d504d"
   },
   "outputs": [
    {
     "name": "stdout",
     "output_type": "stream",
     "text": [
      "Epoch 1/25\n",
      "1562/1562 [==============================] - 109s 68ms/step - loss: 1.6103 - accuracy: 0.4895 - val_loss: 1.2054 - val_accuracy: 0.5860 - lr: 0.0010\n",
      "Epoch 2/25\n",
      "1562/1562 [==============================] - 107s 67ms/step - loss: 1.1332 - accuracy: 0.6086 - val_loss: 1.1225 - val_accuracy: 0.6087 - lr: 0.0010\n",
      "Epoch 3/25\n",
      "1562/1562 [==============================] - 108s 68ms/step - loss: 1.0514 - accuracy: 0.6332 - val_loss: 1.0677 - val_accuracy: 0.6320 - lr: 0.0010\n",
      "Epoch 4/25\n",
      "1562/1562 [==============================] - 108s 67ms/step - loss: 0.9998 - accuracy: 0.6547 - val_loss: 1.0640 - val_accuracy: 0.6306 - lr: 0.0010\n",
      "Epoch 5/25\n",
      "1562/1562 [==============================] - 107s 67ms/step - loss: 0.9675 - accuracy: 0.6656 - val_loss: 1.0504 - val_accuracy: 0.6403 - lr: 0.0010\n",
      "Epoch 6/25\n",
      "1562/1562 [==============================] - 108s 67ms/step - loss: 0.9384 - accuracy: 0.6752 - val_loss: 1.0297 - val_accuracy: 0.6483 - lr: 0.0010\n",
      "Epoch 7/25\n",
      "1562/1562 [==============================] - 110s 69ms/step - loss: 0.9115 - accuracy: 0.6832 - val_loss: 1.0411 - val_accuracy: 0.6439 - lr: 0.0010\n",
      "Epoch 8/25\n",
      "1562/1562 [==============================] - 108s 67ms/step - loss: 0.8920 - accuracy: 0.6905 - val_loss: 1.0311 - val_accuracy: 0.6468 - lr: 0.0010\n",
      "Epoch 9/25\n",
      "1562/1562 [==============================] - 107s 67ms/step - loss: 0.8755 - accuracy: 0.6990 - val_loss: 1.0175 - val_accuracy: 0.6537 - lr: 0.0010\n",
      "Epoch 10/25\n",
      "1562/1562 [==============================] - 107s 67ms/step - loss: 0.8590 - accuracy: 0.7010 - val_loss: 1.0139 - val_accuracy: 0.6570 - lr: 0.0010\n",
      "Epoch 11/25\n",
      "1562/1562 [==============================] - 108s 67ms/step - loss: 0.8418 - accuracy: 0.7074 - val_loss: 0.9882 - val_accuracy: 0.6638 - lr: 0.0010\n",
      "Epoch 12/25\n",
      "1562/1562 [==============================] - 107s 67ms/step - loss: 0.8312 - accuracy: 0.7096 - val_loss: 1.0145 - val_accuracy: 0.6593 - lr: 0.0010\n",
      "Epoch 13/25\n",
      "1562/1562 [==============================] - 108s 67ms/step - loss: 0.8230 - accuracy: 0.7147 - val_loss: 1.0027 - val_accuracy: 0.6595 - lr: 0.0010\n",
      "Epoch 14/25\n",
      "1562/1562 [==============================] - ETA: 0s - loss: 0.8103 - accuracy: 0.7186\n",
      "Epoch 14: ReduceLROnPlateau reducing learning rate to 0.00020000000949949026.\n",
      "1562/1562 [==============================] - 108s 67ms/step - loss: 0.8103 - accuracy: 0.7186 - val_loss: 1.0118 - val_accuracy: 0.6612 - lr: 0.0010\n",
      "Epoch 15/25\n",
      "1562/1562 [==============================] - 107s 67ms/step - loss: 0.7186 - accuracy: 0.7540 - val_loss: 0.9642 - val_accuracy: 0.6781 - lr: 2.0000e-04\n",
      "Epoch 16/25\n",
      "1562/1562 [==============================] - 108s 67ms/step - loss: 0.7059 - accuracy: 0.7552 - val_loss: 0.9641 - val_accuracy: 0.6791 - lr: 2.0000e-04\n",
      "Epoch 17/25\n",
      "1562/1562 [==============================] - 108s 67ms/step - loss: 0.6978 - accuracy: 0.7578 - val_loss: 0.9762 - val_accuracy: 0.6751 - lr: 2.0000e-04\n",
      "Epoch 18/25\n",
      "1562/1562 [==============================] - 108s 67ms/step - loss: 0.6949 - accuracy: 0.7572 - val_loss: 0.9764 - val_accuracy: 0.6773 - lr: 2.0000e-04\n",
      "Epoch 19/25\n",
      "1562/1562 [==============================] - ETA: 0s - loss: 0.6916 - accuracy: 0.7591\n",
      "Epoch 19: ReduceLROnPlateau reducing learning rate to 4.0000001899898055e-05.\n",
      "1562/1562 [==============================] - 108s 67ms/step - loss: 0.6916 - accuracy: 0.7591 - val_loss: 0.9725 - val_accuracy: 0.6781 - lr: 2.0000e-04\n",
      "Epoch 20/25\n",
      "1562/1562 [==============================] - 108s 67ms/step - loss: 0.6708 - accuracy: 0.7689 - val_loss: 0.9659 - val_accuracy: 0.6799 - lr: 4.0000e-05\n",
      "Epoch 21/25\n",
      "1562/1562 [==============================] - 109s 68ms/step - loss: 0.6636 - accuracy: 0.7713 - val_loss: 0.9679 - val_accuracy: 0.6806 - lr: 4.0000e-05\n",
      "Epoch 22/25\n",
      "1562/1562 [==============================] - 108s 67ms/step - loss: 0.6590 - accuracy: 0.7715 - val_loss: 0.9676 - val_accuracy: 0.6821 - lr: 4.0000e-05\n",
      "Epoch 23/25\n",
      "1562/1562 [==============================] - 108s 67ms/step - loss: 0.6629 - accuracy: 0.7712 - val_loss: 0.9689 - val_accuracy: 0.6807 - lr: 4.0000e-05\n",
      "Epoch 24/25\n",
      "1562/1562 [==============================] - 108s 67ms/step - loss: 0.6628 - accuracy: 0.7709 - val_loss: 0.9696 - val_accuracy: 0.6813 - lr: 4.0000e-05\n",
      "Epoch 25/25\n",
      "1562/1562 [==============================] - ETA: 0s - loss: 0.6589 - accuracy: 0.7713\n",
      "Epoch 25: ReduceLROnPlateau reducing learning rate to 8.000000525498762e-06.\n",
      "1562/1562 [==============================] - 107s 67ms/step - loss: 0.6589 - accuracy: 0.7713 - val_loss: 0.9702 - val_accuracy: 0.6806 - lr: 4.0000e-05\n"
     ]
    }
   ],
   "source": [
    "history_simple_25_1 = simple_model.fit(train_ds_28, epochs=25,verbose=1, validation_data=test_ds_28, callbacks=[reduce_lr])"
   ]
  },
  {
   "cell_type": "markdown",
   "metadata": {
    "id": "osnUEH481sj7"
   },
   "source": [
    "Plotting the accuracy of the models.\n",
    "\n",
    "32x32x2 input on the baseline model results in a better accuracy although it takes way longer to train the model. The simplified model is the worse performing model as expected.\n",
    "\n",
    "All models seem to plateau after the 18 epoch mark."
   ]
  },
  {
   "cell_type": "code",
   "execution_count": null,
   "metadata": {
    "colab": {
     "base_uri": "https://localhost:8080/",
     "height": 295
    },
    "id": "anRF1mp4aj2w",
    "outputId": "e3e28258-358f-4e82-c2d7-9fe7d80158ce"
   },
   "outputs": [
    {
     "data": {
      "image/png": "[encoded data removed]",
      "text/plain": [
       "<Figure size 432x288 with 1 Axes>"
      ]
     },
     "metadata": {
      "needs_background": "light"
     },
     "output_type": "display_data"
    }
   ],
   "source": [
    "plt.plot(history_25_28_1.history['val_accuracy'])\n",
    "plt.plot(history_25_32_1.history['val_accuracy'])\n",
    "plt.plot(history_simple_25_1.history['val_accuracy'])\n",
    "plt.title('Model Accuracy of different models')\n",
    "plt.ylabel('accuracy')\n",
    "plt.xlabel('epoch')\n",
    "plt.legend(['28x28','32x32', 'Simplified'], loc='upper left')\n",
    "plt.savefig('FinalEvaluationNoEarlyStop')\n",
    "plt.show()"
   ]
  },
  {
   "cell_type": "markdown",
   "metadata": {
    "id": "yXieqa4f2PKz"
   },
   "source": [
    "Plotting the loss function of all models being tested.\n",
    "\n",
    "The simplified model can be seen performing the worst although suprisingly it seems to be slowly improving. The model with 32x32x3 input seems to be performing initially better but then it starts overfitting significantly and faster than the model with 28x28x3 input.\n",
    "\n",
    "Both models follow the same trajectory when it comes to overfitting."
   ]
  },
  {
   "cell_type": "code",
   "execution_count": null,
   "metadata": {
    "colab": {
     "base_uri": "https://localhost:8080/",
     "height": 295
    },
    "id": "VSJsh7r3p1dA",
    "outputId": "39c00665-e4e0-4469-9f29-f28966f90594"
   },
   "outputs": [
    {
     "data": {
      "image/png": "[encoded data removed]",
      "text/plain": [
       "<Figure size 432x288 with 1 Axes>"
      ]
     },
     "metadata": {
      "needs_background": "light"
     },
     "output_type": "display_data"
    }
   ],
   "source": [
    "plt.plot(history_25_28_1.history['val_loss'])\n",
    "plt.plot(history_25_32_1.history['val_loss'])\n",
    "plt.plot(history_simple_25_1.history['val_loss'])\n",
    "plt.title('Model val_loss of different models')\n",
    "plt.ylabel('loss')\n",
    "plt.xlabel('epoch')\n",
    "plt.legend(['28x28','32x32', 'Simplified'], loc='upper left')\n",
    "plt.savefig('FinalEvaluationLossNoEarlyStop')\n",
    "plt.show()"
   ]
  },
  {
   "cell_type": "markdown",
   "metadata": {
    "id": "ZQu_Qe1y2O1L"
   },
   "source": [
    "Here we are testing a modification on the baseline network. The modification is the addition of extra convolutional and Dense filters. The idea behind this modification is to observe whether this model results in extracting more features from the images.\n",
    "\n",
    "We can see that the new model has less parameters than the original architecture meaning that the increase depth may not result in a better performance."
   ]
  },
  {
   "cell_type": "code",
   "execution_count": null,
   "metadata": {
    "colab": {
     "base_uri": "https://localhost:8080/"
    },
    "id": "OF9GLaiLTsC0",
    "outputId": "16c47f23-e314-4a87-9c21-af96520408e6"
   },
   "outputs": [
    {
     "name": "stdout",
     "output_type": "stream",
     "text": [
      "Model: \"sequential_7\"\n",
      "_________________________________________________________________\n",
      " Layer (type)                Output Shape              Param #   \n",
      "=================================================================\n",
      " conv2d_12 (Conv2D)          (None, 28, 28, 32)        2432      \n",
      "                                                                 \n",
      " max_pooling2d_12 (MaxPoolin  (None, 14, 14, 32)       0         \n",
      " g2D)                                                            \n",
      "                                                                 \n",
      " batch_normalization_12 (Bat  (None, 14, 14, 32)       128       \n",
      " chNormalization)                                                \n",
      "                                                                 \n",
      " conv2d_13 (Conv2D)          (None, 14, 14, 48)        38448     \n",
      "                                                                 \n",
      " max_pooling2d_13 (MaxPoolin  (None, 7, 7, 48)         0         \n",
      " g2D)                                                            \n",
      "                                                                 \n",
      " batch_normalization_13 (Bat  (None, 7, 7, 48)         192       \n",
      " chNormalization)                                                \n",
      "                                                                 \n",
      " conv2d_14 (Conv2D)          (None, 7, 7, 64)          76864     \n",
      "                                                                 \n",
      " max_pooling2d_14 (MaxPoolin  (None, 3, 3, 64)         0         \n",
      " g2D)                                                            \n",
      "                                                                 \n",
      " batch_normalization_14 (Bat  (None, 3, 3, 64)         256       \n",
      " chNormalization)                                                \n",
      "                                                                 \n",
      " flatten_7 (Flatten)         (None, 576)               0         \n",
      "                                                                 \n",
      " dropout_17 (Dropout)        (None, 576)               0         \n",
      "                                                                 \n",
      " dense_17 (Dense)            (None, 256)               147712    \n",
      "                                                                 \n",
      " dropout_18 (Dropout)        (None, 256)               0         \n",
      "                                                                 \n",
      " dense_18 (Dense)            (None, 128)               32896     \n",
      "                                                                 \n",
      " dropout_19 (Dropout)        (None, 128)               0         \n",
      "                                                                 \n",
      " dense_19 (Dense)            (None, 84)                10836     \n",
      "                                                                 \n",
      " dropout_20 (Dropout)        (None, 84)                0         \n",
      "                                                                 \n",
      " dense_20 (Dense)            (None, 10)                850       \n",
      "                                                                 \n",
      "=================================================================\n",
      "Total params: 310,614\n",
      "Trainable params: 310,326\n",
      "Non-trainable params: 288\n",
      "_________________________________________________________________\n"
     ]
    }
   ],
   "source": [
    "deep_model = Sequential()\n",
    "\n",
    "deep_model.add(tf.keras.layers.Conv2D(filters=32, kernel_size=(5,5), padding='same', activation='relu', input_shape=(28, 28, 3)))\n",
    "deep_model.add(tf.keras.layers.MaxPool2D(strides=2))\n",
    "deep_model.add(tf.keras.layers.BatchNormalization())\n",
    "deep_model.add(tf.keras.layers.Conv2D(filters=48, kernel_size=(5,5), padding='same', activation='relu'))\n",
    "deep_model.add(tf.keras.layers.MaxPool2D(strides=2))\n",
    "deep_model.add(tf.keras.layers.BatchNormalization())\n",
    "deep_model.add(tf.keras.layers.Conv2D(filters=64, kernel_size=(5,5), padding='same', activation='relu'))\n",
    "deep_model.add(tf.keras.layers.MaxPool2D(strides=2))\n",
    "deep_model.add(tf.keras.layers.BatchNormalization())\n",
    "deep_model.add(tf.keras.layers.Flatten())\n",
    "deep_model.add(tf.keras.layers.Dropout(0.2))\n",
    "deep_model.add(tf.keras.layers.Dense(256, activation='relu'))\n",
    "deep_model.add(tf.keras.layers.Dropout(0.2))\n",
    "deep_model.add(tf.keras.layers.Dense(128, activation='relu'))\n",
    "deep_model.add(tf.keras.layers.Dropout(0.2))\n",
    "deep_model.add(tf.keras.layers.Dense(84, activation='relu'))\n",
    "deep_model.add(tf.keras.layers.Dropout(0.2))\n",
    "deep_model.add(tf.keras.layers.Dense(10, activation='softmax'))\n",
    "\n",
    "deep_model.compile(loss=sparse_categorical_crossentropy, optimizer=tf.optimizers.Adam(), metrics=['accuracy'])\n",
    "deep_model.summary()"
   ]
  },
  {
   "cell_type": "markdown",
   "metadata": {
    "id": "ullqNRZ63xbq"
   },
   "source": [
    "Training the network and keeping track of the accuracy and loss when using training and test data."
   ]
  },
  {
   "cell_type": "code",
   "execution_count": null,
   "metadata": {
    "colab": {
     "base_uri": "https://localhost:8080/"
    },
    "id": "OD3bvC3B5pDk",
    "outputId": "b52c707d-5c99-43a3-ebf4-bddc92613011"
   },
   "outputs": [
    {
     "name": "stdout",
     "output_type": "stream",
     "text": [
      "Epoch 1/25\n",
      "1562/1562 [==============================] - 295s 187ms/step - loss: 1.5536 - accuracy: 0.4440 - val_loss: 1.2390 - val_accuracy: 0.5634 - lr: 0.0010\n",
      "Epoch 2/25\n",
      "1562/1562 [==============================] - 294s 186ms/step - loss: 1.1698 - accuracy: 0.5931 - val_loss: 0.9824 - val_accuracy: 0.6585 - lr: 0.0010\n",
      "Epoch 3/25\n",
      "1562/1562 [==============================] - 293s 186ms/step - loss: 0.9999 - accuracy: 0.6586 - val_loss: 0.8993 - val_accuracy: 0.6901 - lr: 0.0010\n",
      "Epoch 4/25\n",
      "1562/1562 [==============================] - 292s 185ms/step - loss: 0.8808 - accuracy: 0.7012 - val_loss: 0.8340 - val_accuracy: 0.7142 - lr: 0.0010\n",
      "Epoch 5/25\n",
      "1562/1562 [==============================] - 294s 186ms/step - loss: 0.8044 - accuracy: 0.7283 - val_loss: 0.8072 - val_accuracy: 0.7271 - lr: 0.0010\n",
      "Epoch 6/25\n",
      "1562/1562 [==============================] - 293s 186ms/step - loss: 0.7459 - accuracy: 0.7480 - val_loss: 0.7770 - val_accuracy: 0.7346 - lr: 0.0010\n",
      "Epoch 7/25\n",
      "1562/1562 [==============================] - 293s 186ms/step - loss: 0.6918 - accuracy: 0.7688 - val_loss: 0.7562 - val_accuracy: 0.7454 - lr: 0.0010\n",
      "Epoch 8/25\n",
      "1562/1562 [==============================] - 294s 186ms/step - loss: 0.6477 - accuracy: 0.7823 - val_loss: 0.7286 - val_accuracy: 0.7532 - lr: 0.0010\n",
      "Epoch 9/25\n",
      "1562/1562 [==============================] - 294s 186ms/step - loss: 0.6047 - accuracy: 0.7954 - val_loss: 0.7509 - val_accuracy: 0.7477 - lr: 0.0010\n",
      "Epoch 10/25\n",
      "1562/1562 [==============================] - 294s 186ms/step - loss: 0.5726 - accuracy: 0.8074 - val_loss: 0.7179 - val_accuracy: 0.7597 - lr: 0.0010\n",
      "Epoch 11/25\n",
      "1562/1562 [==============================] - 299s 189ms/step - loss: 0.5352 - accuracy: 0.8184 - val_loss: 0.7196 - val_accuracy: 0.7647 - lr: 0.0010\n",
      "Epoch 12/25\n",
      "1562/1562 [==============================] - 294s 186ms/step - loss: 0.5153 - accuracy: 0.8265 - val_loss: 0.7203 - val_accuracy: 0.7650 - lr: 0.0010\n",
      "Epoch 13/25\n",
      "1562/1562 [==============================] - 293s 186ms/step - loss: 0.4893 - accuracy: 0.8359 - val_loss: 0.7217 - val_accuracy: 0.7623 - lr: 0.0010\n",
      "Epoch 14/25\n",
      "1562/1562 [==============================] - 294s 186ms/step - loss: 0.4592 - accuracy: 0.8453 - val_loss: 0.7314 - val_accuracy: 0.7694 - lr: 0.0010\n",
      "Epoch 15/25\n",
      "1562/1562 [==============================] - 294s 186ms/step - loss: 0.4404 - accuracy: 0.8513 - val_loss: 0.7302 - val_accuracy: 0.7759 - lr: 0.0010\n",
      "Epoch 16/25\n",
      "1562/1562 [==============================] - 294s 187ms/step - loss: 0.4254 - accuracy: 0.8567 - val_loss: 0.7685 - val_accuracy: 0.7659 - lr: 0.0010\n",
      "Epoch 17/25\n",
      "1562/1562 [==============================] - 296s 187ms/step - loss: 0.4134 - accuracy: 0.8614 - val_loss: 0.7279 - val_accuracy: 0.7717 - lr: 0.0010\n",
      "Epoch 18/25\n",
      "1562/1562 [==============================] - ETA: 0s - loss: 0.3864 - accuracy: 0.8711\n",
      "Epoch 18: ReduceLROnPlateau reducing learning rate to 0.00020000000949949026.\n",
      "1562/1562 [==============================] - 294s 186ms/step - loss: 0.3864 - accuracy: 0.8711 - val_loss: 0.7501 - val_accuracy: 0.7739 - lr: 0.0010\n",
      "Epoch 19/25\n",
      "1562/1562 [==============================] - 294s 186ms/step - loss: 0.2931 - accuracy: 0.9013 - val_loss: 0.7484 - val_accuracy: 0.7932 - lr: 2.0000e-04\n",
      "Epoch 20/25\n",
      "1562/1562 [==============================] - 293s 186ms/step - loss: 0.2527 - accuracy: 0.9133 - val_loss: 0.7722 - val_accuracy: 0.7927 - lr: 2.0000e-04\n",
      "Epoch 21/25\n",
      "1562/1562 [==============================] - 305s 193ms/step - loss: 0.2362 - accuracy: 0.9188 - val_loss: 0.7725 - val_accuracy: 0.7939 - lr: 2.0000e-04\n",
      "Epoch 22/25\n",
      "1562/1562 [==============================] - 297s 188ms/step - loss: 0.2175 - accuracy: 0.9250 - val_loss: 0.8070 - val_accuracy: 0.7931 - lr: 2.0000e-04\n",
      "Epoch 23/25\n",
      "1562/1562 [==============================] - 293s 186ms/step - loss: 0.2100 - accuracy: 0.9292 - val_loss: 0.8181 - val_accuracy: 0.7942 - lr: 2.0000e-04\n",
      "Epoch 24/25\n",
      "1562/1562 [==============================] - 293s 185ms/step - loss: 0.2036 - accuracy: 0.9309 - val_loss: 0.8424 - val_accuracy: 0.7893 - lr: 2.0000e-04\n",
      "Epoch 25/25\n",
      "1562/1562 [==============================] - 294s 186ms/step - loss: 0.1908 - accuracy: 0.9351 - val_loss: 0.8488 - val_accuracy: 0.7928 - lr: 2.0000e-04\n"
     ]
    }
   ],
   "source": [
    "history_deep = deep_model.fit(train_ds_28, epochs=25,verbose=1, validation_data=test_ds_28, callbacks=[reduce_lr])"
   ]
  },
  {
   "cell_type": "markdown",
   "metadata": {
    "id": "2dPZYH-N365i"
   },
   "source": [
    "We can see a significant improvement when it comes to the accuracy using testing data. This is important as it indicates that the extra depth result in better accuracy somethingh that we were concerned about due to the less number of parameters that the model has."
   ]
  },
  {
   "cell_type": "code",
   "execution_count": null,
   "metadata": {
    "colab": {
     "base_uri": "https://localhost:8080/",
     "height": 295
    },
    "id": "hKjbd38tMdtM",
    "outputId": "23477991-2e15-435f-ec02-6a593980588e"
   },
   "outputs": [
    {
     "data": {
      "image/png": "[encoded data removed]",
      "text/plain": [
       "<Figure size 432x288 with 1 Axes>"
      ]
     },
     "metadata": {
      "needs_background": "light"
     },
     "output_type": "display_data"
    }
   ],
   "source": [
    "plt.plot(history_deep.history['accuracy'])\n",
    "plt.plot(history_deep.history['val_accuracy'])\n",
    "plt.title('Deep Model Accuracy')\n",
    "plt.ylabel('accuracy')\n",
    "plt.xlabel('epoch')\n",
    "plt.legend(['train', 'val'], loc='upper left')\n",
    "plt.show()"
   ]
  },
  {
   "cell_type": "markdown",
   "metadata": {
    "id": "XVRHk9mm6-_-"
   },
   "source": [
    "The model seems to be not performing as well as the other models when it comes to the loss function. The loss is actually higher than the other 2 models we have previously seen, baseline 32x32x3 and baseline 28x28x3. This may be due to the extra layers of the network that do not allow for the loss to propagate correctly through the network. Thus meaning that the model is not learning and performing well."
   ]
  },
  {
   "cell_type": "code",
   "execution_count": null,
   "metadata": {
    "colab": {
     "base_uri": "https://localhost:8080/",
     "height": 295
    },
    "id": "KMGwR3mjLphZ",
    "outputId": "d3f2d24a-2c4b-4a0a-8be8-ea591329aa98"
   },
   "outputs": [
    {
     "data": {
      "image/png": "[encoded data removed]",
      "text/plain": [
       "<Figure size 432x288 with 1 Axes>"
      ]
     },
     "metadata": {
      "needs_background": "light"
     },
     "output_type": "display_data"
    }
   ],
   "source": [
    "plt.plot(history_deep.history['loss'])\n",
    "plt.plot(history_deep.history['val_loss'])\n",
    "plt.title('Deep Model Loss')\n",
    "plt.ylabel('loss')\n",
    "plt.xlabel('epoch')\n",
    "plt.legend(['loss', 'val'], loc='upper left')\n",
    "plt.show()"
   ]
  }
 ],
 "metadata": {
  "colab": {
   "collapsed_sections": [],
   "name": "21COC102_B915247.ipynb",
   "provenance": []
  },
  "kernelspec": {
   "display_name": "Python 3 (ipykernel)",
   "language": "python",
   "name": "python3"
  },
  "language_info": {
   "codemirror_mode": {
    "name": "ipython",
    "version": 3
   },
   "file_extension": ".py",
   "mimetype": "text/x-python",
   "name": "python",
   "nbconvert_exporter": "python",
   "pygments_lexer": "ipython3",
   "version": "3.8.5"
  }
 },
 "nbformat": 4,
 "nbformat_minor": 1
}
